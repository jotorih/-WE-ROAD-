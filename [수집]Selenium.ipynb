{
 "cells": [
  {
   "cell_type": "markdown",
   "id": "d7e87750",
   "metadata": {},
   "source": [
    "# selenium 설치"
   ]
  },
  {
   "cell_type": "code",
   "execution_count": 1,
   "id": "eca056ae",
   "metadata": {
    "scrolled": true
   },
   "outputs": [
    {
     "name": "stdout",
     "output_type": "stream",
     "text": [
      "Collecting selenium\n",
      "  Using cached selenium-3.141.0-py2.py3-none-any.whl (904 kB)\n",
      "Requirement already satisfied: urllib3 in c:\\users\\user\\.conda\\envs\\tf23\\lib\\site-packages (from selenium) (1.26.4)\n",
      "Installing collected packages: selenium\n",
      "Successfully installed selenium-3.141.0\n"
     ]
    }
   ],
   "source": [
    "!pip install selenium"
   ]
  },
  {
   "cell_type": "markdown",
   "id": "e699b965",
   "metadata": {},
   "source": [
    "# url 호출 및 html 결과 출력하기"
   ]
  },
  {
   "cell_type": "code",
   "execution_count": 117,
   "id": "691abb77",
   "metadata": {
    "scrolled": true
   },
   "outputs": [
    {
     "name": "stdout",
     "output_type": "stream",
     "text": [
      "{\n",
      "\"lastBuildDate\": \"Wed, 30 Jun 2021 20:05:51 +0900\",\n",
      "\"total\": 184,\n",
      "\"start\": 1,\n",
      "\"display\": 20,\n",
      "\"items\": [\n",
      "{\n",
      "\"title\": \"<b>게임기획자</b>\",\n",
      "\"link\": \"https://terms.naver.com/entry.naver?docId=926466&cid=42116&categoryId=42116\",\n",
      "\"description\": \"[직업설명] <b>게임기획자</b>는 PC <b>게임</b>, 네트워크 <b>게임</b> 등 <b>게임</b>용 소프트웨어 제작과 관련된 모든 사항들을 총괄적으로 지휘하고 감독하는 일을 담당한다. <b>게임</b> 시장 조사 등을 통해 소비자들이 좋아하고 원하는... \",\n",
      "\"thumbnail\": \"\"\n",
      "\n",
      "},\n",
      "{\n",
      "\"title\": \"<b>게임 기획자</b>\",\n",
      "\"link\": \"https://terms.naver.com/entry.naver?docId=5759076&cid=64518&categoryId=64518\",\n",
      "\"description\": \" 누구나 쉽게 즐길 수 있는 <b>게임</b>을 만들어요. [한눈에 살펴보기] [어떤 일을 하나요?] - <b>게임 기획자</b>는 컴퓨터, 모바일, 콘솔 <b>게임</b>기, VR 기기 등에서 이용할 수 있는 슈팅 <b>게임</b>, 시뮬레이션 <b>게임</b>, RPG <b>게임</b>, 스포츠... \",\n",
      "\"thumbnail\": \"http://openapi-dbscthumb.phinf.naver.net/5779_000_1/20190513120438204_VY0ZIG1RK.png/ba26_17_i5.png?type=m160_160\"\n",
      "\n",
      "},\n",
      "{\n",
      "\"title\": \"<b>게임기획자</b>\",\n",
      "\"link\": \"https://terms.naver.com/entry.naver?docId=1028716&cid=42117&categoryId=42117\",\n",
      "\"description\": \" 컴퓨터<b>게임</b>의 아이템과 스토리, 캐릭터 등을 구성 및 기획하고 제작과정을 관리한다. [수행직무] <b>게임</b>시장과 <b>게임</b>사용자의 동향을 조사하고 적합한 <b>게임</b>아이템을 찾는다. <b>게임</b>구현의 가능성과 사업을... \",\n",
      "\"thumbnail\": \"\"\n",
      "\n",
      "},\n",
      "{\n",
      "\"title\": \"<b>게임기획자</b>\",\n",
      "\"link\": \"https://terms.naver.com/entry.naver?docId=2849565&cid=55622&categoryId=55622&anchorTarget=TABLE_OF_CONTENT2#TABLE_OF_CONTENT2\",\n",
      "\"description\": \"• <b>게임기획자</b>는 PC<b>게임</b>, 네트워크<b>게임</b> 등 <b>게임</b>용 소프트웨어 제작과 관련된 모든 사항들을 총지휘하고 감독하는 일을 합니다.• <b>게임기획자</b>가 되기 위한 학력이나 전공의 제한은 없으나 대체로 <b>게임</b>제작과... \",\n",
      "\"thumbnail\": \"\"\n",
      "\n",
      "},\n",
      "{\n",
      "\"title\": \"<b>게임</b>관련 직업의 세계\",\n",
      "\"link\": \"https://terms.naver.com/entry.naver?docId=2849565&cid=55622&categoryId=55622\",\n",
      "\"description\": \"[<b>게임기획자</b>] • <b>게임기획자</b>는 PC<b>게임</b>, 네트워크<b>게임</b> 등 <b>게임</b>용 소프트웨어 제작과 관련된 모든 사항들을 총지휘하고 감독하는 일을 합니다. • <b>게임기획자</b>가 되기 위한 학력이나 전공의 제한은 없으나 대체로... \",\n",
      "\"thumbnail\": \"http://openapi-dbscthumb.phinf.naver.net/4072_000_1/20150831152742099_BTIPKE7RH.jpg/l26_13_i1.jpg?type=m160_160\"\n",
      "\n",
      "},\n",
      "{\n",
      "\"title\": \"<b>기획자</b>\",\n",
      "\"link\": \"https://terms.naver.com/entry.naver?docId=2028692&cid=42914&categoryId=42916\",\n",
      "\"description\": \" <b>게임</b> 개발자의 한 직종. <b>게임</b>의 규칙을 정하고 세부적인 방식을 정의하는 등의 ‘기획’ 업무를 맡는다.  ‘<b>기획자</b>’(Designer, 企劃者) 혹은 ‘<b>게임 기획자</b>’는 <b>게임</b> 개발자의 한 직종으로, <b>게임</b>의 규칙... \",\n",
      "\"thumbnail\": \"http://openapi-dbscthumb.phinf.naver.net/2868_000_1/20140107163539907_A364SDZKZ.jpg/ff13_2_190_i1.jpg?type=m160_160\"\n",
      "\n",
      "},\n",
      "{\n",
      "\"title\": \"<b>게임</b>프로듀서\",\n",
      "\"link\": \"https://terms.naver.com/entry.naver?docId=1233523&cid=40942&categoryId=31851\",\n",
      "\"description\": \" 컴퓨터 <b>게임</b> 제작의 전과정을 총감독하는 사람 또는 <b>게임</b>과 관련된 정보프로그램이나 각종 <b>게임</b>대회를 기획, 제작하는 사람.  하나의 컴퓨터 <b>게임</b>이 만들어지기까지는 시나리오를 만드는 기획부터 프로그램... \",\n",
      "\"thumbnail\": \"\"\n",
      "\n",
      "},\n",
      "{\n",
      "\"title\": \"<b>게임</b>QA전문가\",\n",
      "\"link\": \"https://terms.naver.com/entry.naver?docId=1028715&cid=42117&categoryId=42117\",\n",
      "\"description\": \" 사용자의 <b>게임</b>플레이로 얻을 수 있는 만족도를 최대화할 수 있도록 제작 중이거나 완성한 <b>게임</b>을 분석하여 <b>게임</b>기획 내용을 적절하게 반영할 수 있도록 제안하고 수정한다. [수행직무] 제작 중이거나 완성한... \",\n",
      "\"thumbnail\": \"\"\n",
      "\n",
      "},\n",
      "{\n",
      "\"title\": \"영화감독\",\n",
      "\"link\": \"https://terms.naver.com/entry.naver?docId=1837767&cid=42117&categoryId=42117\",\n",
      "\"description\": \" 영화 제작을 위해 연기자와 제작진의 활동을 조정·감독하고 촬영 및 편집 등 영화제작 전반에 대하여 총괄한다. [수행직무] 시나리오를 분석하고 시나리오작가 및 영화제작자 등과 협의하여 제작스태프 및... \",\n",
      "\"thumbnail\": \"\"\n",
      "\n",
      "},\n",
      "{\n",
      "\"title\": \"<b>게임</b> 디자인\",\n",
      "\"link\": \"https://ko.wikipedia.org/wiki/%EA%B2%8C%EC%9E%84_%EB%94%94%EC%9E%90%EC%9D%B8\",\n",
      "\"description\": \"<b>게임</b> 디자인 (game design)은 재미를 표현하기 위해 <b>게임</b>의 규칙과 내용을 설계하는 과정을 지칭하는 말이다. 또한 이미 제작된 <b>게임</b>의 설계 양식이나 설계를 기술한 문서를 가리키는 말로 사용되기도 한다. 주... \",\n",
      "\"thumbnail\": \"\"\n",
      "\n",
      "},\n",
      "{\n",
      "\"title\": \"더 타워 <b>게임</b>\",\n",
      "\"link\": \"https://terms.naver.com/entry.naver?docId=3575394&cid=58819&categoryId=58834\",\n",
      "\"description\": \"일본의 <b>게임 기획자</b> 이이노 겐지(飯野賢治)의 [에너미 제로]에서도 청각 정보를 이용한 문제 해결을 시도했던 바 있었다. 그리고 특히 청각에 의존할 때, 우리의 공포감이 커진다는 점 역시 이 <b>게임</b>에서... \",\n",
      "\"thumbnail\": \"http://openapi-dbscthumb.phinf.naver.net/4749_000_5/20170316150113618_U7S8UGQC9.jpg/255x174_45.jpg?type=m160_160\"\n",
      "\n",
      "},\n",
      "{\n",
      "\"title\": \"<b>게임</b>공학과\",\n",
      "\"link\": \"https://terms.naver.com/entry.naver?docId=917495&cid=44346&categoryId=44346\",\n",
      "\"description\": \"<b>게임</b> 기획은 크게 전반적인 <b>게임</b>구성과 규칙을 만드는 시스템 <b>기획자</b>와 <b>게임</b>의 난이도, 사용자의 플레이 패턴 등을 기획하는 레벨<b>기획자</b>로 구분되기도 합니다. <b>게임</b>기획부터 개발, 디자인에 이르기까지 <b>게임</b>과... \",\n",
      "\"thumbnail\": \"\"\n",
      "\n",
      "},\n",
      "{\n",
      "\"title\": \"<b>게임</b>프로그래머\",\n",
      "\"link\": \"https://terms.naver.com/entry.naver?docId=1028688&cid=42117&categoryId=42117\",\n",
      "\"description\": \"[수행직무] <b>게임기획자</b>, <b>게임</b>그래픽디자이너, <b>게임</b>음악가 등으로부터 넘겨받을 자료를 기반으로 <b>게임</b>프로그램의 구조를 설계한다. <b>게임</b>을 제작하기 위한 툴인 <b>게임</b>엔진을 개발한다. 영상을 컴퓨터 모니터에... \",\n",
      "\"thumbnail\": \"\"\n",
      "\n",
      "},\n",
      "{\n",
      "\"title\": \"컴퓨터<b>게임</b>과\",\n",
      "\"link\": \"https://terms.naver.com/entry.naver?docId=917866&cid=44346&categoryId=44346\",\n",
      "\"description\": \"[학과개요] 컴퓨터<b>게임</b>이나 모바일 <b>게임</b>을 해본 경험이 있죠? <b>게임</b>은 간단히 조작할 수 있는 아케이드 <b>게임</b>부터 마치 소설 속을 들여다보듯 웅장한 세계관을 가진 RPG<b>게임</b> 등 다양합니다. <b>게임</b>콘텐츠과는... \",\n",
      "\"thumbnail\": \"\"\n",
      "\n",
      "},\n",
      "{\n",
      "\"title\": \"<b>게임</b>개발프로듀서\",\n",
      "\"link\": \"https://terms.naver.com/entry.naver?docId=1025715&cid=42117&categoryId=42117\",\n",
      "\"description\": \"[수행직무] <b>게임기획자</b>가 기획한 내용을 살펴보고 상품성에 대해 평가한다. 상품화가 결정이 나면 <b>게임</b>제작의 일정, 제작 예산 등을 총괄한다. <b>게임</b>시나리오작가, <b>게임</b>프로그래머, <b>게임</b>그래픽디자이너... \",\n",
      "\"thumbnail\": \"\"\n",
      "\n",
      "},\n",
      "{\n",
      "\"title\": \"<b>게임</b>기획전문가\",\n",
      "\"link\": \"https://terms.naver.com/entry.naver?docId=977010&cid=42114&categoryId=42114\",\n",
      "\"description\": \"② <b>게임</b>기획전문가 실기시험은 <b>게임</b>디자이너(<b>기획자</b>)가 기본적으로 보유해야하는 능력 위주의 테스트로, 단편적인 능력을 평가하기 보다는 콘셉트, 시나리오, 시스\",\n",
      "\"thumbnail\": \"http://openapi-dbscthumb.phinf.naver.net/2147_000_1/20190530190601990_99NY7S5Z8.jpg/da6_202_i1.jpg?type=m160_160\"\n",
      "\n",
      "},\n",
      "{\n",
      "\"title\": \"<b>게임</b>그래픽디자이너\",\n",
      "\"link\": \"https://terms.naver.com/entry.naver?docId=1025704&cid=42117&categoryId=42117\",\n",
      "\"description\": \"[수행직무] <b>게임기획자</b>와 <b>게임</b>시나리오작가가 구상한 내용을 참고로 캐릭터와 배경화면 등을 구상한다. 스케치 작업을 거쳐 색을 입힌다(컬러링 작업). 작업계획을 세운 후 그래픽 소프트웨어를 이용해... \",\n",
      "\"thumbnail\": \"\"\n",
      "\n",
      "},\n",
      "{\n",
      "\"title\": \"온라인<b>게임</b>프로그래머\",\n",
      "\"link\": \"https://terms.naver.com/entry.naver?docId=1224048&cid=40942&categoryId=31849\",\n",
      "\"description\": \"이들은 <b>게임 기획자</b> 또는 <b>게임</b> 프로듀서라고도 한다. 그래픽 단계에서는 <b>게임 기획자</b> 시나리오의 의도에 맞는 그래픽, 캐릭터와 배경 등을 3DMAX와 포토샵 등을 이용해 그린다. 프로그래밍 단계에서는 C언어... \",\n",
      "\"thumbnail\": \"\"\n",
      "\n",
      "},\n",
      "{\n",
      "\"title\": \"리니지 (비디오 <b>게임</b>)\",\n",
      "\"link\": \"https://ko.wikipedia.org/wiki/%EB%A6%AC%EB%8B%88%EC%A7%80_(%EB%B9%84%EB%94%94%EC%98%A4_%EA%B2%8C%EC%9E%84)\",\n",
      "\"description\": \"리니지 스토리의 배경 신화 시대를 바탕으로 3차원 그래픽스 기반의 리니지 II가 현재 별도로 서비스되고 있으나 리니지 II의 배경신화는 리니지의 신화를 그대로 차용하였다기보다는, <b>게임 기획자</b>의... \",\n",
      "\"thumbnail\": \"\"\n",
      "\n",
      "},\n",
      "{\n",
      "\"title\": \"비디오<b>게임</b>디자이너\",\n",
      "\"link\": \"https://terms.naver.com/entry.naver?docId=2849567&cid=55622&categoryId=55622\",\n",
      "\"description\": \"&quot;<b>게임</b> 이야기를 만들고 디자인해요&quot; [배경 및 직업 개요] • 출현 배경 <b>게임</b>기를 대중화시킨 닌텐도에서부터 3D멀티<b>게임</b>까지, <b>게임</b>산업이 급속히 팽창하고 있습니다. 90년대 중반부터 등장한... \",\n",
      "\"thumbnail\": \"http://openapi-dbscthumb.phinf.naver.net/4072_000_1/20150831152805112_RTGX5EOT3.jpg/l26_15_i1.jpg?type=m160_160\"\n",
      "\n",
      "}\n",
      "]\n",
      "}\n",
      "\n"
     ]
    }
   ],
   "source": [
    "import os\n",
    "import sys\n",
    "import urllib.request\n",
    "\n",
    "client_id = \"NDpdhb3QmHuJCN5Pzj8N\"\n",
    "client_secret = \"P0zKfZIQky\"\n",
    "encText = urllib.parse.quote(\"게임기획자\")\n",
    "url = \"https://openapi.naver.com/v1/search/encyc?query=\" + encText +\"&display=20\" #+\"display=100\" # json 결과\n",
    "\n",
    "request = urllib.request.Request(url)\n",
    "request.add_header(\"X-Naver-client-Id\",client_id)\n",
    "request.add_header(\"X-Naver-client-secret\",client_secret)\n",
    "response = urllib.request.urlopen(request)\n",
    "rescode = response.getcode()\n",
    "if(rescode==200):\n",
    "    response_body = response.read()\n",
    "    print(response_body.decode('utf-8'))\n",
    "else:\n",
    "    print(\"Error Code:\" + rescode)"
   ]
  },
  {
   "cell_type": "markdown",
   "id": "cb13d2af",
   "metadata": {},
   "source": [
    "# json 변환"
   ]
  },
  {
   "cell_type": "code",
   "execution_count": 118,
   "id": "1871720e",
   "metadata": {
    "scrolled": true
   },
   "outputs": [
    {
     "data": {
      "text/plain": [
       "{'lastBuildDate': 'Wed, 30 Jun 2021 20:05:51 +0900',\n",
       " 'total': 184,\n",
       " 'start': 1,\n",
       " 'display': 20,\n",
       " 'items': [{'title': '<b>게임기획자</b>',\n",
       "   'link': 'https://terms.naver.com/entry.naver?docId=926466&cid=42116&categoryId=42116',\n",
       "   'description': '[직업설명] <b>게임기획자</b>는 PC <b>게임</b>, 네트워크 <b>게임</b> 등 <b>게임</b>용 소프트웨어 제작과 관련된 모든 사항들을 총괄적으로 지휘하고 감독하는 일을 담당한다. <b>게임</b> 시장 조사 등을 통해 소비자들이 좋아하고 원하는... ',\n",
       "   'thumbnail': ''},\n",
       "  {'title': '<b>게임 기획자</b>',\n",
       "   'link': 'https://terms.naver.com/entry.naver?docId=5759076&cid=64518&categoryId=64518',\n",
       "   'description': ' 누구나 쉽게 즐길 수 있는 <b>게임</b>을 만들어요. [한눈에 살펴보기] [어떤 일을 하나요?] - <b>게임 기획자</b>는 컴퓨터, 모바일, 콘솔 <b>게임</b>기, VR 기기 등에서 이용할 수 있는 슈팅 <b>게임</b>, 시뮬레이션 <b>게임</b>, RPG <b>게임</b>, 스포츠... ',\n",
       "   'thumbnail': 'http://openapi-dbscthumb.phinf.naver.net/5779_000_1/20190513120438204_VY0ZIG1RK.png/ba26_17_i5.png?type=m160_160'},\n",
       "  {'title': '<b>게임기획자</b>',\n",
       "   'link': 'https://terms.naver.com/entry.naver?docId=1028716&cid=42117&categoryId=42117',\n",
       "   'description': ' 컴퓨터<b>게임</b>의 아이템과 스토리, 캐릭터 등을 구성 및 기획하고 제작과정을 관리한다. [수행직무] <b>게임</b>시장과 <b>게임</b>사용자의 동향을 조사하고 적합한 <b>게임</b>아이템을 찾는다. <b>게임</b>구현의 가능성과 사업을... ',\n",
       "   'thumbnail': ''},\n",
       "  {'title': '<b>게임기획자</b>',\n",
       "   'link': 'https://terms.naver.com/entry.naver?docId=2849565&cid=55622&categoryId=55622&anchorTarget=TABLE_OF_CONTENT2#TABLE_OF_CONTENT2',\n",
       "   'description': '• <b>게임기획자</b>는 PC<b>게임</b>, 네트워크<b>게임</b> 등 <b>게임</b>용 소프트웨어 제작과 관련된 모든 사항들을 총지휘하고 감독하는 일을 합니다.• <b>게임기획자</b>가 되기 위한 학력이나 전공의 제한은 없으나 대체로 <b>게임</b>제작과... ',\n",
       "   'thumbnail': ''},\n",
       "  {'title': '<b>게임</b>관련 직업의 세계',\n",
       "   'link': 'https://terms.naver.com/entry.naver?docId=2849565&cid=55622&categoryId=55622',\n",
       "   'description': '[<b>게임기획자</b>] • <b>게임기획자</b>는 PC<b>게임</b>, 네트워크<b>게임</b> 등 <b>게임</b>용 소프트웨어 제작과 관련된 모든 사항들을 총지휘하고 감독하는 일을 합니다. • <b>게임기획자</b>가 되기 위한 학력이나 전공의 제한은 없으나 대체로... ',\n",
       "   'thumbnail': 'http://openapi-dbscthumb.phinf.naver.net/4072_000_1/20150831152742099_BTIPKE7RH.jpg/l26_13_i1.jpg?type=m160_160'},\n",
       "  {'title': '<b>기획자</b>',\n",
       "   'link': 'https://terms.naver.com/entry.naver?docId=2028692&cid=42914&categoryId=42916',\n",
       "   'description': ' <b>게임</b> 개발자의 한 직종. <b>게임</b>의 규칙을 정하고 세부적인 방식을 정의하는 등의 ‘기획’ 업무를 맡는다.  ‘<b>기획자</b>’(Designer, 企劃者) 혹은 ‘<b>게임 기획자</b>’는 <b>게임</b> 개발자의 한 직종으로, <b>게임</b>의 규칙... ',\n",
       "   'thumbnail': 'http://openapi-dbscthumb.phinf.naver.net/2868_000_1/20140107163539907_A364SDZKZ.jpg/ff13_2_190_i1.jpg?type=m160_160'},\n",
       "  {'title': '<b>게임</b>프로듀서',\n",
       "   'link': 'https://terms.naver.com/entry.naver?docId=1233523&cid=40942&categoryId=31851',\n",
       "   'description': ' 컴퓨터 <b>게임</b> 제작의 전과정을 총감독하는 사람 또는 <b>게임</b>과 관련된 정보프로그램이나 각종 <b>게임</b>대회를 기획, 제작하는 사람.  하나의 컴퓨터 <b>게임</b>이 만들어지기까지는 시나리오를 만드는 기획부터 프로그램... ',\n",
       "   'thumbnail': ''},\n",
       "  {'title': '<b>게임</b>QA전문가',\n",
       "   'link': 'https://terms.naver.com/entry.naver?docId=1028715&cid=42117&categoryId=42117',\n",
       "   'description': ' 사용자의 <b>게임</b>플레이로 얻을 수 있는 만족도를 최대화할 수 있도록 제작 중이거나 완성한 <b>게임</b>을 분석하여 <b>게임</b>기획 내용을 적절하게 반영할 수 있도록 제안하고 수정한다. [수행직무] 제작 중이거나 완성한... ',\n",
       "   'thumbnail': ''},\n",
       "  {'title': '영화감독',\n",
       "   'link': 'https://terms.naver.com/entry.naver?docId=1837767&cid=42117&categoryId=42117',\n",
       "   'description': ' 영화 제작을 위해 연기자와 제작진의 활동을 조정·감독하고 촬영 및 편집 등 영화제작 전반에 대하여 총괄한다. [수행직무] 시나리오를 분석하고 시나리오작가 및 영화제작자 등과 협의하여 제작스태프 및... ',\n",
       "   'thumbnail': ''},\n",
       "  {'title': '<b>게임</b> 디자인',\n",
       "   'link': 'https://ko.wikipedia.org/wiki/%EA%B2%8C%EC%9E%84_%EB%94%94%EC%9E%90%EC%9D%B8',\n",
       "   'description': '<b>게임</b> 디자인 (game design)은 재미를 표현하기 위해 <b>게임</b>의 규칙과 내용을 설계하는 과정을 지칭하는 말이다. 또한 이미 제작된 <b>게임</b>의 설계 양식이나 설계를 기술한 문서를 가리키는 말로 사용되기도 한다. 주... ',\n",
       "   'thumbnail': ''},\n",
       "  {'title': '더 타워 <b>게임</b>',\n",
       "   'link': 'https://terms.naver.com/entry.naver?docId=3575394&cid=58819&categoryId=58834',\n",
       "   'description': '일본의 <b>게임 기획자</b> 이이노 겐지(飯野賢治)의 [에너미 제로]에서도 청각 정보를 이용한 문제 해결을 시도했던 바 있었다. 그리고 특히 청각에 의존할 때, 우리의 공포감이 커진다는 점 역시 이 <b>게임</b>에서... ',\n",
       "   'thumbnail': 'http://openapi-dbscthumb.phinf.naver.net/4749_000_5/20170316150113618_U7S8UGQC9.jpg/255x174_45.jpg?type=m160_160'},\n",
       "  {'title': '<b>게임</b>공학과',\n",
       "   'link': 'https://terms.naver.com/entry.naver?docId=917495&cid=44346&categoryId=44346',\n",
       "   'description': '<b>게임</b> 기획은 크게 전반적인 <b>게임</b>구성과 규칙을 만드는 시스템 <b>기획자</b>와 <b>게임</b>의 난이도, 사용자의 플레이 패턴 등을 기획하는 레벨<b>기획자</b>로 구분되기도 합니다. <b>게임</b>기획부터 개발, 디자인에 이르기까지 <b>게임</b>과... ',\n",
       "   'thumbnail': ''},\n",
       "  {'title': '<b>게임</b>프로그래머',\n",
       "   'link': 'https://terms.naver.com/entry.naver?docId=1028688&cid=42117&categoryId=42117',\n",
       "   'description': '[수행직무] <b>게임기획자</b>, <b>게임</b>그래픽디자이너, <b>게임</b>음악가 등으로부터 넘겨받을 자료를 기반으로 <b>게임</b>프로그램의 구조를 설계한다. <b>게임</b>을 제작하기 위한 툴인 <b>게임</b>엔진을 개발한다. 영상을 컴퓨터 모니터에... ',\n",
       "   'thumbnail': ''},\n",
       "  {'title': '컴퓨터<b>게임</b>과',\n",
       "   'link': 'https://terms.naver.com/entry.naver?docId=917866&cid=44346&categoryId=44346',\n",
       "   'description': '[학과개요] 컴퓨터<b>게임</b>이나 모바일 <b>게임</b>을 해본 경험이 있죠? <b>게임</b>은 간단히 조작할 수 있는 아케이드 <b>게임</b>부터 마치 소설 속을 들여다보듯 웅장한 세계관을 가진 RPG<b>게임</b> 등 다양합니다. <b>게임</b>콘텐츠과는... ',\n",
       "   'thumbnail': ''},\n",
       "  {'title': '<b>게임</b>개발프로듀서',\n",
       "   'link': 'https://terms.naver.com/entry.naver?docId=1025715&cid=42117&categoryId=42117',\n",
       "   'description': '[수행직무] <b>게임기획자</b>가 기획한 내용을 살펴보고 상품성에 대해 평가한다. 상품화가 결정이 나면 <b>게임</b>제작의 일정, 제작 예산 등을 총괄한다. <b>게임</b>시나리오작가, <b>게임</b>프로그래머, <b>게임</b>그래픽디자이너... ',\n",
       "   'thumbnail': ''},\n",
       "  {'title': '<b>게임</b>기획전문가',\n",
       "   'link': 'https://terms.naver.com/entry.naver?docId=977010&cid=42114&categoryId=42114',\n",
       "   'description': '② <b>게임</b>기획전문가 실기시험은 <b>게임</b>디자이너(<b>기획자</b>)가 기본적으로 보유해야하는 능력 위주의 테스트로, 단편적인 능력을 평가하기 보다는 콘셉트, 시나리오, 시스',\n",
       "   'thumbnail': 'http://openapi-dbscthumb.phinf.naver.net/2147_000_1/20190530190601990_99NY7S5Z8.jpg/da6_202_i1.jpg?type=m160_160'},\n",
       "  {'title': '<b>게임</b>그래픽디자이너',\n",
       "   'link': 'https://terms.naver.com/entry.naver?docId=1025704&cid=42117&categoryId=42117',\n",
       "   'description': '[수행직무] <b>게임기획자</b>와 <b>게임</b>시나리오작가가 구상한 내용을 참고로 캐릭터와 배경화면 등을 구상한다. 스케치 작업을 거쳐 색을 입힌다(컬러링 작업). 작업계획을 세운 후 그래픽 소프트웨어를 이용해... ',\n",
       "   'thumbnail': ''},\n",
       "  {'title': '온라인<b>게임</b>프로그래머',\n",
       "   'link': 'https://terms.naver.com/entry.naver?docId=1224048&cid=40942&categoryId=31849',\n",
       "   'description': '이들은 <b>게임 기획자</b> 또는 <b>게임</b> 프로듀서라고도 한다. 그래픽 단계에서는 <b>게임 기획자</b> 시나리오의 의도에 맞는 그래픽, 캐릭터와 배경 등을 3DMAX와 포토샵 등을 이용해 그린다. 프로그래밍 단계에서는 C언어... ',\n",
       "   'thumbnail': ''},\n",
       "  {'title': '리니지 (비디오 <b>게임</b>)',\n",
       "   'link': 'https://ko.wikipedia.org/wiki/%EB%A6%AC%EB%8B%88%EC%A7%80_(%EB%B9%84%EB%94%94%EC%98%A4_%EA%B2%8C%EC%9E%84)',\n",
       "   'description': '리니지 스토리의 배경 신화 시대를 바탕으로 3차원 그래픽스 기반의 리니지 II가 현재 별도로 서비스되고 있으나 리니지 II의 배경신화는 리니지의 신화를 그대로 차용하였다기보다는, <b>게임 기획자</b>의... ',\n",
       "   'thumbnail': ''},\n",
       "  {'title': '비디오<b>게임</b>디자이너',\n",
       "   'link': 'https://terms.naver.com/entry.naver?docId=2849567&cid=55622&categoryId=55622',\n",
       "   'description': '&quot;<b>게임</b> 이야기를 만들고 디자인해요&quot; [배경 및 직업 개요] • 출현 배경 <b>게임</b>기를 대중화시킨 닌텐도에서부터 3D멀티<b>게임</b>까지, <b>게임</b>산업이 급속히 팽창하고 있습니다. 90년대 중반부터 등장한... ',\n",
       "   'thumbnail': 'http://openapi-dbscthumb.phinf.naver.net/4072_000_1/20150831152805112_RTGX5EOT3.jpg/l26_15_i1.jpg?type=m160_160'}]}"
      ]
     },
     "execution_count": 118,
     "metadata": {},
     "output_type": "execute_result"
    }
   ],
   "source": [
    "import json\n",
    "import pandas as pd\n",
    "\n",
    "from pandas.io.json import json_normalize\n",
    "json_object = json.loads(response_body)\n",
    "json_object"
   ]
  },
  {
   "cell_type": "markdown",
   "id": "ae9a6ed8",
   "metadata": {},
   "source": [
    "# title, link 출력"
   ]
  },
  {
   "cell_type": "code",
   "execution_count": 119,
   "id": "6d48475f",
   "metadata": {},
   "outputs": [
    {
     "name": "stdout",
     "output_type": "stream",
     "text": [
      "['<b>게임기획자</b>', '<b>게임 기획자</b>', '<b>게임기획자</b>', '<b>게임기획자</b>', '<b>게임</b>관련 직업의 세계', '<b>기획자</b>', '<b>게임</b>프로듀서', '<b>게임</b>QA전문가', '영화감독', '<b>게임</b> 디자인']\n",
      "['https://terms.naver.com/entry.naver?docId=926466&cid=42116&categoryId=42116', 'https://terms.naver.com/entry.naver?docId=5759076&cid=64518&categoryId=64518', 'https://terms.naver.com/entry.naver?docId=1028716&cid=42117&categoryId=42117', 'https://terms.naver.com/entry.naver?docId=2849565&cid=55622&categoryId=55622&anchorTarget=TABLE_OF_CONTENT2#TABLE_OF_CONTENT2', 'https://terms.naver.com/entry.naver?docId=2849565&cid=55622&categoryId=55622', 'https://terms.naver.com/entry.naver?docId=2028692&cid=42914&categoryId=42916', 'https://terms.naver.com/entry.naver?docId=1233523&cid=40942&categoryId=31851', 'https://terms.naver.com/entry.naver?docId=1028715&cid=42117&categoryId=42117', 'https://terms.naver.com/entry.naver?docId=1837767&cid=42117&categoryId=42117', 'https://ko.wikipedia.org/wiki/%EA%B2%8C%EC%9E%84_%EB%94%94%EC%9E%90%EC%9D%B8']\n"
     ]
    }
   ],
   "source": [
    "lst = []\n",
    "lst1 = []\n",
    "for i in range(10):\n",
    "    lst.append(json_object['items'][i]['title'])\n",
    "print(lst)\n",
    "for i in range(10):\n",
    "    lst1.append(json_object['items'][i]['link'])\n",
    "print(lst1)"
   ]
  },
  {
   "cell_type": "markdown",
   "id": "13880e80",
   "metadata": {},
   "source": [
    "# Beautifulsoup 웹 크롤링"
   ]
  },
  {
   "cell_type": "code",
   "execution_count": 120,
   "id": "9ea447bf",
   "metadata": {},
   "outputs": [
    {
     "data": {
      "application/vnd.jupyter.widget-view+json": {
       "model_id": "9cfcb456cffe4e2d8677b156b0b44c7c",
       "version_major": 2,
       "version_minor": 0
      },
      "text/plain": [
       "  0%|          | 0/10 [00:00<?, ?it/s]"
      ]
     },
     "metadata": {},
     "output_type": "display_data"
    }
   ],
   "source": [
    "import bs4\n",
    "\n",
    "number = 10\n",
    "data =[]\n",
    "for i in tqdm(range(0, number)): \n",
    "    url = lst1[i]\n",
    "    driver = webdriver.Chrome(\"chromedriver.exe\")\n",
    "    driver.get(url)   # 글 띄우기\n",
    "\n",
    "    html = driver.page_source\n",
    "    soup = bs4.BeautifulSoup(html, 'html.parser')\n",
    "    notices = soup.find_all(\"p\", {\"class\":\"txt\"})\n",
    "    if len(notices) == 0 : \n",
    "        notices = soup.find_all(\"dd\")\n",
    "\n",
    "    a =''\n",
    "    for n in notices:\n",
    "        a = a+ n.text.strip()\n",
    "    data.append(a)\n",
    "        \n"
   ]
  },
  {
   "cell_type": "markdown",
   "id": "735dfa27",
   "metadata": {},
   "source": [
    "# 데이터 DataFrame 변환"
   ]
  },
  {
   "cell_type": "code",
   "execution_count": 121,
   "id": "abf2cf84",
   "metadata": {
    "scrolled": false
   },
   "outputs": [
    {
     "data": {
      "text/html": [
       "<div>\n",
       "<style scoped>\n",
       "    .dataframe tbody tr th:only-of-type {\n",
       "        vertical-align: middle;\n",
       "    }\n",
       "\n",
       "    .dataframe tbody tr th {\n",
       "        vertical-align: top;\n",
       "    }\n",
       "\n",
       "    .dataframe thead th {\n",
       "        text-align: right;\n",
       "    }\n",
       "</style>\n",
       "<table border=\"1\" class=\"dataframe\">\n",
       "  <thead>\n",
       "    <tr style=\"text-align: right;\">\n",
       "      <th></th>\n",
       "      <th>0</th>\n",
       "    </tr>\n",
       "  </thead>\n",
       "  <tbody>\n",
       "    <tr>\n",
       "      <th>0</th>\n",
       "      <td>게임기획자는 PC 게임, 네트워크 게임 등 게임용 소프트웨어 제작과 관련된 모든 사...</td>\n",
       "    </tr>\n",
       "    <tr>\n",
       "      <th>1</th>\n",
       "      <td>- 게임 기획자는 컴퓨터, 모바일, 콘솔 게임기1), VR 기기 등에서 이용할 수 ...</td>\n",
       "    </tr>\n",
       "    <tr>\n",
       "      <th>2</th>\n",
       "      <td>게임시장과 게임사용자의 동향을 조사하고 적합한 게임아이템을 찾는다. 게임구현의 가능...</td>\n",
       "    </tr>\n",
       "    <tr>\n",
       "      <th>3</th>\n",
       "      <td>• 게임감시관 및 조사관은 게임장 관리, 고객을 위한 감시 등 안전요원으로서의 역할...</td>\n",
       "    </tr>\n",
       "    <tr>\n",
       "      <th>4</th>\n",
       "      <td>• 게임감시관 및 조사관은 게임장 관리, 고객을 위한 감시 등 안전요원으로서의 역할...</td>\n",
       "    </tr>\n",
       "    <tr>\n",
       "      <th>5</th>\n",
       "      <td>‘기획자’(Designer, 企劃者) 혹은 ‘게임 기획자’는 게임 개발자의 한 직종...</td>\n",
       "    </tr>\n",
       "    <tr>\n",
       "      <th>6</th>\n",
       "      <td>하나의 컴퓨터 게임이 만들어지기까지는 시나리오를 만드는 기획부터 프로그램 개발, 그...</td>\n",
       "    </tr>\n",
       "    <tr>\n",
       "      <th>7</th>\n",
       "      <td>제작 중이거나 완성한 게임을 플레이하고 분석하여 게임의 시스템, 레벨 등의 콘텐츠가...</td>\n",
       "    </tr>\n",
       "    <tr>\n",
       "      <th>8</th>\n",
       "      <td>시나리오를 분석하고 시나리오작가 및 영화제작자 등과 협의하여 제작스태프 및 배역을 ...</td>\n",
       "    </tr>\n",
       "    <tr>\n",
       "      <th>9</th>\n",
       "      <td></td>\n",
       "    </tr>\n",
       "  </tbody>\n",
       "</table>\n",
       "</div>"
      ],
      "text/plain": [
       "                                                   0\n",
       "0  게임기획자는 PC 게임, 네트워크 게임 등 게임용 소프트웨어 제작과 관련된 모든 사...\n",
       "1  - 게임 기획자는 컴퓨터, 모바일, 콘솔 게임기1), VR 기기 등에서 이용할 수 ...\n",
       "2  게임시장과 게임사용자의 동향을 조사하고 적합한 게임아이템을 찾는다. 게임구현의 가능...\n",
       "3  • 게임감시관 및 조사관은 게임장 관리, 고객을 위한 감시 등 안전요원으로서의 역할...\n",
       "4  • 게임감시관 및 조사관은 게임장 관리, 고객을 위한 감시 등 안전요원으로서의 역할...\n",
       "5  ‘기획자’(Designer, 企劃者) 혹은 ‘게임 기획자’는 게임 개발자의 한 직종...\n",
       "6  하나의 컴퓨터 게임이 만들어지기까지는 시나리오를 만드는 기획부터 프로그램 개발, 그...\n",
       "7  제작 중이거나 완성한 게임을 플레이하고 분석하여 게임의 시스템, 레벨 등의 콘텐츠가...\n",
       "8  시나리오를 분석하고 시나리오작가 및 영화제작자 등과 협의하여 제작스태프 및 배역을 ...\n",
       "9                                                   "
      ]
     },
     "execution_count": 121,
     "metadata": {},
     "output_type": "execute_result"
    }
   ],
   "source": [
    "import pandas as pd\n",
    "\n",
    "frame = pd.DataFrame(data)\n",
    "frame.head(10)"
   ]
  },
  {
   "cell_type": "markdown",
   "id": "eaaea6d8",
   "metadata": {},
   "source": [
    "# Excel 파일 저장"
   ]
  },
  {
   "cell_type": "code",
   "execution_count": 89,
   "id": "d20da2c8",
   "metadata": {},
   "outputs": [],
   "source": [
    "frame.to_excel(excel_writer='게임기획자.xlsx')"
   ]
  }
 ],
 "metadata": {
  "kernelspec": {
   "display_name": "Python 3",
   "language": "python",
   "name": "python3"
  },
  "language_info": {
   "codemirror_mode": {
    "name": "ipython",
    "version": 3
   },
   "file_extension": ".py",
   "mimetype": "text/x-python",
   "name": "python",
   "nbconvert_exporter": "python",
   "pygments_lexer": "ipython3",
   "version": "3.8.10"
  }
 },
 "nbformat": 4,
 "nbformat_minor": 5
}
