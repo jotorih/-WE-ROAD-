{
 "cells": [
  {
   "cell_type": "markdown",
   "id": "311a14ab",
   "metadata": {},
   "source": [
    "# 임포트 부분"
   ]
  },
  {
   "cell_type": "code",
   "execution_count": 29,
   "id": "f4df3c7e",
   "metadata": {},
   "outputs": [],
   "source": [
    "import pandas as pd\n",
    "from konlpy.tag import Okt\n",
    "from tqdm import trange, notebook\n",
    "import numpy as np\n",
    "from sklearn.preprocessing import LabelEncoder\n",
    "from sklearn.model_selection import train_test_split\n",
    "from tensorflow.keras.preprocessing.text import Tokenizer\n",
    "from tensorflow.keras.preprocessing import sequence\n",
    "from sklearn.metrics import accuracy_score\n",
    "from sklearn.naive_bayes import MultinomialNB\n",
    "import re\n",
    "from sklearn.feature_extraction.text import CountVectorizer"
   ]
  },
  {
   "cell_type": "markdown",
   "id": "7dff99c7",
   "metadata": {},
   "source": [
    "# 데이터 가져오기"
   ]
  },
  {
   "cell_type": "code",
   "execution_count": 2,
   "id": "50ac3c97",
   "metadata": {},
   "outputs": [
    {
     "data": {
      "text/html": [
       "<div>\n",
       "<style scoped>\n",
       "    .dataframe tbody tr th:only-of-type {\n",
       "        vertical-align: middle;\n",
       "    }\n",
       "\n",
       "    .dataframe tbody tr th {\n",
       "        vertical-align: top;\n",
       "    }\n",
       "\n",
       "    .dataframe thead th {\n",
       "        text-align: right;\n",
       "    }\n",
       "</style>\n",
       "<table border=\"1\" class=\"dataframe\">\n",
       "  <thead>\n",
       "    <tr style=\"text-align: right;\">\n",
       "      <th></th>\n",
       "      <th>data</th>\n",
       "      <th>label</th>\n",
       "    </tr>\n",
       "  </thead>\n",
       "  <tbody>\n",
       "    <tr>\n",
       "      <th>0</th>\n",
       "      <td>Game Designer(게임 디자이너)\\n\\n비디오 게임 제작자의 부류. 영어로는...</td>\n",
       "      <td>game</td>\n",
       "    </tr>\n",
       "    <tr>\n",
       "      <th>1</th>\n",
       "      <td>게임크리에이터, 게임디자이너\\n게임기획자는 PC 게임, 네트워크 게임 등 게임용 소...</td>\n",
       "      <td>game</td>\n",
       "    </tr>\n",
       "    <tr>\n",
       "      <th>2</th>\n",
       "      <td>게임기획자란?\\n실제 게임제작, 게임프로그래밍이나 그래픽 작업에 들어가기 전 어떤 ...</td>\n",
       "      <td>game</td>\n",
       "    </tr>\n",
       "    <tr>\n",
       "      <th>3</th>\n",
       "      <td>하는일\\n컴퓨터 게임의 아이템과 스토리, 캐릭터 등을 구성 및 기획하고 제작 과정을...</td>\n",
       "      <td>game</td>\n",
       "    </tr>\n",
       "    <tr>\n",
       "      <th>4</th>\n",
       "      <td>게임기획자\\n\\n게임 기획자는 게임 회사의 기획팀에 속해서 일하는 사람들을 말합니다...</td>\n",
       "      <td>game</td>\n",
       "    </tr>\n",
       "    <tr>\n",
       "      <th>...</th>\n",
       "      <td>...</td>\n",
       "      <td>...</td>\n",
       "    </tr>\n",
       "    <tr>\n",
       "      <th>118</th>\n",
       "      <td>안녕하세요. 자기소개 부탁드립니다.\\n안녕하세요! 개발자 고영정이라고 합니다. 토스...</td>\n",
       "      <td>mobile</td>\n",
       "    </tr>\n",
       "    <tr>\n",
       "      <th>119</th>\n",
       "      <td>버즈빌에 대한 간단한 소개도 부탁드립니다.\\n버즈빌은 글로벌 잠금 화면 광고 플랫폼...</td>\n",
       "      <td>mobile</td>\n",
       "    </tr>\n",
       "    <tr>\n",
       "      <th>120</th>\n",
       "      <td>반갑습니다. 자기소개 부탁 드립니다.\\n안녕하세요. 캐시슬라이드에서 제품길드의 클라...</td>\n",
       "      <td>mobile</td>\n",
       "    </tr>\n",
       "    <tr>\n",
       "      <th>121</th>\n",
       "      <td>안녕하세요. 간단한 자기소개 부탁 드립니다.\\n안녕하세요! 와이즈솔루션 테크니컬 파...</td>\n",
       "      <td>mobile</td>\n",
       "    </tr>\n",
       "    <tr>\n",
       "      <th>122</th>\n",
       "      <td>모바일 앱이란?\\n모바일 앱은 응용 프로그램(application program)들...</td>\n",
       "      <td>mobile</td>\n",
       "    </tr>\n",
       "  </tbody>\n",
       "</table>\n",
       "<p>123 rows × 2 columns</p>\n",
       "</div>"
      ],
      "text/plain": [
       "                                                  data   label\n",
       "0    Game Designer(게임 디자이너)\\n\\n비디오 게임 제작자의 부류. 영어로는...    game\n",
       "1    게임크리에이터, 게임디자이너\\n게임기획자는 PC 게임, 네트워크 게임 등 게임용 소...    game\n",
       "2    게임기획자란?\\n실제 게임제작, 게임프로그래밍이나 그래픽 작업에 들어가기 전 어떤 ...    game\n",
       "3    하는일\\n컴퓨터 게임의 아이템과 스토리, 캐릭터 등을 구성 및 기획하고 제작 과정을...    game\n",
       "4    게임기획자\\n\\n게임 기획자는 게임 회사의 기획팀에 속해서 일하는 사람들을 말합니다...    game\n",
       "..                                                 ...     ...\n",
       "118  안녕하세요. 자기소개 부탁드립니다.\\n안녕하세요! 개발자 고영정이라고 합니다. 토스...  mobile\n",
       "119  버즈빌에 대한 간단한 소개도 부탁드립니다.\\n버즈빌은 글로벌 잠금 화면 광고 플랫폼...  mobile\n",
       "120  반갑습니다. 자기소개 부탁 드립니다.\\n안녕하세요. 캐시슬라이드에서 제품길드의 클라...  mobile\n",
       "121  안녕하세요. 간단한 자기소개 부탁 드립니다.\\n안녕하세요! 와이즈솔루션 테크니컬 파...  mobile\n",
       "122  모바일 앱이란?\\n모바일 앱은 응용 프로그램(application program)들...  mobile\n",
       "\n",
       "[123 rows x 2 columns]"
      ]
     },
     "execution_count": 2,
     "metadata": {},
     "output_type": "execute_result"
    }
   ],
   "source": [
    "a = pd.read_excel('total_최종.xlsx')\n",
    "a"
   ]
  },
  {
   "cell_type": "markdown",
   "id": "9442d3c3",
   "metadata": {},
   "source": [
    "# 특수문자 제거"
   ]
  },
  {
   "cell_type": "code",
   "execution_count": 3,
   "id": "ac678fd3",
   "metadata": {
    "scrolled": true
   },
   "outputs": [
    {
     "name": "stderr",
     "output_type": "stream",
     "text": [
      "<ipython-input-3-f18787e8bf6f>:1: FutureWarning: The default value of regex will change from True to False in a future version.\n",
      "  a['data'] = a['data'].str.replace(\"[^가-힣ㄱ-ㅎㅏ-ㅣa-zA-Z0-9 ]\",\"\")\n"
     ]
    },
    {
     "data": {
      "text/html": [
       "<div>\n",
       "<style scoped>\n",
       "    .dataframe tbody tr th:only-of-type {\n",
       "        vertical-align: middle;\n",
       "    }\n",
       "\n",
       "    .dataframe tbody tr th {\n",
       "        vertical-align: top;\n",
       "    }\n",
       "\n",
       "    .dataframe thead th {\n",
       "        text-align: right;\n",
       "    }\n",
       "</style>\n",
       "<table border=\"1\" class=\"dataframe\">\n",
       "  <thead>\n",
       "    <tr style=\"text-align: right;\">\n",
       "      <th></th>\n",
       "      <th>data</th>\n",
       "      <th>label</th>\n",
       "    </tr>\n",
       "  </thead>\n",
       "  <tbody>\n",
       "    <tr>\n",
       "      <th>0</th>\n",
       "      <td>Game Designer게임 디자이너비디오 게임 제작자의 부류 영어로는 게임 디자이...</td>\n",
       "      <td>game</td>\n",
       "    </tr>\n",
       "    <tr>\n",
       "      <th>1</th>\n",
       "      <td>게임크리에이터 게임디자이너게임기획자는 PC 게임 네트워크 게임 등 게임용 소프트웨어...</td>\n",
       "      <td>game</td>\n",
       "    </tr>\n",
       "    <tr>\n",
       "      <th>2</th>\n",
       "      <td>게임기획자란실제 게임제작 게임프로그래밍이나 그래픽 작업에 들어가기 전 어떤 게임을 ...</td>\n",
       "      <td>game</td>\n",
       "    </tr>\n",
       "    <tr>\n",
       "      <th>3</th>\n",
       "      <td>하는일컴퓨터 게임의 아이템과 스토리 캐릭터 등을 구성 및 기획하고 제작 과정을 관리...</td>\n",
       "      <td>game</td>\n",
       "    </tr>\n",
       "    <tr>\n",
       "      <th>4</th>\n",
       "      <td>게임기획자게임 기획자는 게임 회사의 기획팀에 속해서 일하는 사람들을 말합니다 보통 ...</td>\n",
       "      <td>game</td>\n",
       "    </tr>\n",
       "    <tr>\n",
       "      <th>...</th>\n",
       "      <td>...</td>\n",
       "      <td>...</td>\n",
       "    </tr>\n",
       "    <tr>\n",
       "      <th>118</th>\n",
       "      <td>안녕하세요 자기소개 부탁드립니다안녕하세요 개발자 고영정이라고 합니다 토스랩은 잔디라...</td>\n",
       "      <td>mobile</td>\n",
       "    </tr>\n",
       "    <tr>\n",
       "      <th>119</th>\n",
       "      <td>버즈빌에 대한 간단한 소개도 부탁드립니다버즈빌은 글로벌 잠금 화면 광고 플랫폼을 만...</td>\n",
       "      <td>mobile</td>\n",
       "    </tr>\n",
       "    <tr>\n",
       "      <th>120</th>\n",
       "      <td>반갑습니다 자기소개 부탁 드립니다안녕하세요 캐시슬라이드에서 제품길드의 클라이언트 클...</td>\n",
       "      <td>mobile</td>\n",
       "    </tr>\n",
       "    <tr>\n",
       "      <th>121</th>\n",
       "      <td>안녕하세요 간단한 자기소개 부탁 드립니다안녕하세요 와이즈솔루션 테크니컬 파트에서 일...</td>\n",
       "      <td>mobile</td>\n",
       "    </tr>\n",
       "    <tr>\n",
       "      <th>122</th>\n",
       "      <td>모바일 앱이란모바일 앱은 응용 프로그램application program들 중 스마...</td>\n",
       "      <td>mobile</td>\n",
       "    </tr>\n",
       "  </tbody>\n",
       "</table>\n",
       "<p>123 rows × 2 columns</p>\n",
       "</div>"
      ],
      "text/plain": [
       "                                                  data   label\n",
       "0    Game Designer게임 디자이너비디오 게임 제작자의 부류 영어로는 게임 디자이...    game\n",
       "1    게임크리에이터 게임디자이너게임기획자는 PC 게임 네트워크 게임 등 게임용 소프트웨어...    game\n",
       "2    게임기획자란실제 게임제작 게임프로그래밍이나 그래픽 작업에 들어가기 전 어떤 게임을 ...    game\n",
       "3    하는일컴퓨터 게임의 아이템과 스토리 캐릭터 등을 구성 및 기획하고 제작 과정을 관리...    game\n",
       "4    게임기획자게임 기획자는 게임 회사의 기획팀에 속해서 일하는 사람들을 말합니다 보통 ...    game\n",
       "..                                                 ...     ...\n",
       "118  안녕하세요 자기소개 부탁드립니다안녕하세요 개발자 고영정이라고 합니다 토스랩은 잔디라...  mobile\n",
       "119  버즈빌에 대한 간단한 소개도 부탁드립니다버즈빌은 글로벌 잠금 화면 광고 플랫폼을 만...  mobile\n",
       "120  반갑습니다 자기소개 부탁 드립니다안녕하세요 캐시슬라이드에서 제품길드의 클라이언트 클...  mobile\n",
       "121  안녕하세요 간단한 자기소개 부탁 드립니다안녕하세요 와이즈솔루션 테크니컬 파트에서 일...  mobile\n",
       "122  모바일 앱이란모바일 앱은 응용 프로그램application program들 중 스마...  mobile\n",
       "\n",
       "[123 rows x 2 columns]"
      ]
     },
     "execution_count": 3,
     "metadata": {},
     "output_type": "execute_result"
    }
   ],
   "source": [
    "a['data'] = a['data'].str.replace(\"[^가-힣ㄱ-ㅎㅏ-ㅣa-zA-Z0-9 ]\",\"\")\n",
    "a"
   ]
  },
  {
   "cell_type": "markdown",
   "id": "ac1d762a",
   "metadata": {},
   "source": [
    "# 형태소 분석, 불용어 제거"
   ]
  },
  {
   "cell_type": "code",
   "execution_count": 98,
   "id": "ed0febce",
   "metadata": {},
   "outputs": [
    {
     "data": {
      "application/vnd.jupyter.widget-view+json": {
       "model_id": "67e44241a0c54221a4dad1b845076a55",
       "version_major": 2,
       "version_minor": 0
      },
      "text/plain": [
       "  0%|          | 0/123 [00:00<?, ?it/s]"
      ]
     },
     "metadata": {},
     "output_type": "display_data"
    }
   ],
   "source": [
    "stopwords = ['을', '를', '이', '가', '은', '는','이','그','있','n','nn','t','의','되','라','한','다','하','더','에','서','나',\n",
    "            '과','고','며','와','지','해','도','지','못','안','않','로','들','된','것','에는','안녕',\n",
    "            '반갑','내','등','할','자','있다','','직','군','위','식','각','출','창','시','수','및','신','영','화','살','여','양','송','대','데',\n",
    "            '연','구','살','장','또','적','D','력','인','향','년','후','생','기','봐','문','니','사','본','제','작','관','일','분','야',\n",
    "            '중','거','명','어','개','타','제','또는','요','전','몇','중','에서','있는데요','된다','또한','되','돼','않','으로','만','있습니다','하는','하는것이',\n",
    "            '만','푹','지금','하는','곳','로는','한다','이다','에서는','이라','고하','에서보다','이라고도','경','제등','이서','이라는',\n",
    "            '가는','되는','마다','야하며','야한다','필요하다','되었을','필요한다','게','하고','좋아하고','원하는','통해','하여이에','고도',\n",
    "            '세','드리지','않습니다','잉','님','합니다']\n",
    "\n",
    "okt = Okt()\n",
    "tokenized_data = []\n",
    "\n",
    "for sentence in notebook.tqdm(a['data']):  # 프로그레스 바\n",
    "    temp_X = okt.morphs(sentence, stem=True) # 토큰화\n",
    "    temp_X = [word for word in temp_X if not word in stopwords] # 불용어 제거\n",
    "    #temp_X = [word for word in temp_X if len(word) > 1] # 한글자는 제거\n",
    "    tokenized_data.append(temp_X)"
   ]
  },
  {
   "cell_type": "markdown",
   "id": "7ca30e9b",
   "metadata": {},
   "source": [
    "# array 변환"
   ]
  },
  {
   "cell_type": "code",
   "execution_count": 99,
   "id": "5b3f8421",
   "metadata": {},
   "outputs": [
    {
     "name": "stderr",
     "output_type": "stream",
     "text": [
      "<ipython-input-99-609f2ddec93a>:1: VisibleDeprecationWarning: Creating an ndarray from ragged nested sequences (which is a list-or-tuple of lists-or-tuples-or ndarrays with different lengths or shapes) is deprecated. If you meant to do this, you must specify 'dtype=object' when creating the ndarray\n",
      "  x = np.array(tokenized_data)\n"
     ]
    }
   ],
   "source": [
    "x = np.array(tokenized_data)\n",
    "y = a.label.values"
   ]
  },
  {
   "cell_type": "markdown",
   "id": "92dc12ba",
   "metadata": {},
   "source": [
    "# y라벨 변환"
   ]
  },
  {
   "cell_type": "code",
   "execution_count": 100,
   "id": "1ce18e36",
   "metadata": {},
   "outputs": [
    {
     "name": "stdout",
     "output_type": "stream",
     "text": [
      "[0 0 0 0 0 0 0 0 0 0 0 0 0 0 0 0 0 0 0 0 0 0 0 0 0 0 0 0 0 0 0 0 0 0 0 0 0\n",
      " 0 0 0 0 0 0 0 0 0 2 2 2 2 2 2 2 2 2 2 2 2 2 2 2 2 2 2 2 2 2 2 2 2 2 2 2 2\n",
      " 2 2 2 2 2 2 2 2 2 2 2 2 2 2 2 2 2 2 1 1 1 1 1 1 1 1 1 1 1 1 1 1 1 1 1 1 1\n",
      " 1 1 1 1 1 1 1 1 1 1 1 1]\n"
     ]
    }
   ],
   "source": [
    "le = LabelEncoder()\n",
    "y = le.fit_transform(y)\n",
    "print(y)"
   ]
  },
  {
   "cell_type": "markdown",
   "id": "e92bdddb",
   "metadata": {},
   "source": [
    "# 트레인 테스트 나누기"
   ]
  },
  {
   "cell_type": "code",
   "execution_count": 128,
   "id": "5288397c",
   "metadata": {},
   "outputs": [],
   "source": [
    "x_train, x_test, y_train, y_test = train_test_split(x, y, test_size=0.2, stratify=y)"
   ]
  },
  {
   "cell_type": "markdown",
   "id": "f6b91eb2",
   "metadata": {},
   "source": [
    "# 토큰화"
   ]
  },
  {
   "cell_type": "code",
   "execution_count": 129,
   "id": "7a9dd472",
   "metadata": {},
   "outputs": [],
   "source": [
    "# 토큰화max_len = 500\n",
    "tok = Tokenizer()\n",
    "tok.fit_on_texts(x_train)"
   ]
  },
  {
   "cell_type": "markdown",
   "id": "7fd6dddf",
   "metadata": {},
   "source": [
    "# x_train text_to_sequences, pad_sequence 작업"
   ]
  },
  {
   "cell_type": "code",
   "execution_count": 130,
   "id": "8da82b95",
   "metadata": {},
   "outputs": [],
   "source": [
    "sequences1 = tok.texts_to_sequences(x_train)\n",
    "sequences2 = tok.texts_to_sequences(x_test)\n",
    "sequences_matrix1 = sequence.pad_sequences(sequences1, maxlen=max_len)\n",
    "sequences_matrix2 = sequence.pad_sequences(sequences2, maxlen=max_len)"
   ]
  },
  {
   "cell_type": "markdown",
   "id": "6f176e26",
   "metadata": {},
   "source": [
    "# 나이브베이즈 모델"
   ]
  },
  {
   "cell_type": "code",
   "execution_count": 131,
   "id": "acb4ddd9",
   "metadata": {},
   "outputs": [
    {
     "name": "stdout",
     "output_type": "stream",
     "text": [
      "0.44\n"
     ]
    }
   ],
   "source": [
    "NB = MultinomialNB()\n",
    "NB.fit(sequences_matrix1, y_train)\n",
    "pred = NB.predict(sequences_matrix2)\n",
    "acc = accuracy_score(pred, y_test)\n",
    "print(acc)"
   ]
  },
  {
   "cell_type": "markdown",
   "id": "f9d28975",
   "metadata": {},
   "source": [
    "# tf-idf를 이용한 정확도 향상"
   ]
  },
  {
   "cell_type": "code",
   "execution_count": 135,
   "id": "05807c63",
   "metadata": {},
   "outputs": [
    {
     "name": "stdout",
     "output_type": "stream",
     "text": [
      "0.4\n"
     ]
    }
   ],
   "source": [
    "from sklearn.feature_extraction.text import TfidfTransformer\n",
    "\n",
    "tfidf = TfidfTransformer()\n",
    "x_train_tf = tfidf.fit_transform(sequences_matrix1)\n",
    "x_test_tf = tfidf.fit_transform(sequences_matrix2)\n",
    "\n",
    "NB.fit(x_train_tf, y_train)\n",
    "pred = NB.predict(x_test_tf)\n",
    "acc = accuracy_score(pred, y_test)\n",
    "print(acc)"
   ]
  }
 ],
 "metadata": {
  "kernelspec": {
   "display_name": "Python 3",
   "language": "python",
   "name": "python3"
  },
  "language_info": {
   "codemirror_mode": {
    "name": "ipython",
    "version": 3
   },
   "file_extension": ".py",
   "mimetype": "text/x-python",
   "name": "python",
   "nbconvert_exporter": "python",
   "pygments_lexer": "ipython3",
   "version": "3.8.10"
  }
 },
 "nbformat": 4,
 "nbformat_minor": 5
}
