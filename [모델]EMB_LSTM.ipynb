{
 "cells": [
  {
   "cell_type": "markdown",
   "id": "e6c88318",
   "metadata": {},
   "source": [
    "# 임포트 부분"
   ]
  },
  {
   "cell_type": "code",
   "execution_count": 109,
   "id": "d8cd139f",
   "metadata": {},
   "outputs": [],
   "source": [
    "import pandas as pd\n",
    "import numpy as np\n",
    "import matplotlib.pyplot as plt\n",
    "import seaborn as sns\n",
    "import os\n",
    "from sklearn.model_selection import train_test_split\n",
    "from sklearn.preprocessing import LabelEncoder\n",
    "from tensorflow.keras.models import Model, Sequential\n",
    "from tensorflow.keras.layers import Dense, LSTM, Dropout, Embedding, Input, GlobalMaxPool1D, Flatten\n",
    "from tensorflow.keras.preprocessing.text import Tokenizer\n",
    "from tensorflow.keras.preprocessing import sequence\n",
    "from tensorflow.keras.utils import to_categorical\n",
    "from tensorflow.keras.callbacks import EarlyStopping, ModelCheckpoint\n",
    "from tensorflow.keras.models import load_model\n",
    "import re\n",
    "\n",
    "import tensorflow as tf\n",
    "from konlpy.tag import Okt\n",
    "from tqdm import trange, notebook"
   ]
  },
  {
   "cell_type": "markdown",
   "id": "9681fa8c",
   "metadata": {},
   "source": [
    "# 데이터가져오기"
   ]
  },
  {
   "cell_type": "code",
   "execution_count": 110,
   "id": "33389fa8",
   "metadata": {},
   "outputs": [
    {
     "data": {
      "text/html": [
       "<div>\n",
       "<style scoped>\n",
       "    .dataframe tbody tr th:only-of-type {\n",
       "        vertical-align: middle;\n",
       "    }\n",
       "\n",
       "    .dataframe tbody tr th {\n",
       "        vertical-align: top;\n",
       "    }\n",
       "\n",
       "    .dataframe thead th {\n",
       "        text-align: right;\n",
       "    }\n",
       "</style>\n",
       "<table border=\"1\" class=\"dataframe\">\n",
       "  <thead>\n",
       "    <tr style=\"text-align: right;\">\n",
       "      <th></th>\n",
       "      <th>data</th>\n",
       "      <th>label</th>\n",
       "    </tr>\n",
       "  </thead>\n",
       "  <tbody>\n",
       "    <tr>\n",
       "      <th>0</th>\n",
       "      <td>Game Designer(게임 디자이너)\\n\\n비디오 게임 제작자의 부류. 영어로는...</td>\n",
       "      <td>game</td>\n",
       "    </tr>\n",
       "    <tr>\n",
       "      <th>1</th>\n",
       "      <td>게임크리에이터, 게임디자이너\\n게임기획자는 PC 게임, 네트워크 게임 등 게임용 소...</td>\n",
       "      <td>game</td>\n",
       "    </tr>\n",
       "    <tr>\n",
       "      <th>2</th>\n",
       "      <td>게임기획자란?\\n실제 게임제작, 게임프로그래밍이나 그래픽 작업에 들어가기 전 어떤 ...</td>\n",
       "      <td>game</td>\n",
       "    </tr>\n",
       "    <tr>\n",
       "      <th>3</th>\n",
       "      <td>하는일\\n컴퓨터 게임의 아이템과 스토리, 캐릭터 등을 구성 및 기획하고 제작 과정을...</td>\n",
       "      <td>game</td>\n",
       "    </tr>\n",
       "    <tr>\n",
       "      <th>4</th>\n",
       "      <td>게임기획자\\n\\n게임 기획자는 게임 회사의 기획팀에 속해서 일하는 사람들을 말합니다...</td>\n",
       "      <td>game</td>\n",
       "    </tr>\n",
       "    <tr>\n",
       "      <th>...</th>\n",
       "      <td>...</td>\n",
       "      <td>...</td>\n",
       "    </tr>\n",
       "    <tr>\n",
       "      <th>118</th>\n",
       "      <td>안녕하세요. 자기소개 부탁드립니다.\\n안녕하세요! 개발자 고영정이라고 합니다. 토스...</td>\n",
       "      <td>mobile</td>\n",
       "    </tr>\n",
       "    <tr>\n",
       "      <th>119</th>\n",
       "      <td>버즈빌에 대한 간단한 소개도 부탁드립니다.\\n버즈빌은 글로벌 잠금 화면 광고 플랫폼...</td>\n",
       "      <td>mobile</td>\n",
       "    </tr>\n",
       "    <tr>\n",
       "      <th>120</th>\n",
       "      <td>반갑습니다. 자기소개 부탁 드립니다.\\n안녕하세요. 캐시슬라이드에서 제품길드의 클라...</td>\n",
       "      <td>mobile</td>\n",
       "    </tr>\n",
       "    <tr>\n",
       "      <th>121</th>\n",
       "      <td>안녕하세요. 간단한 자기소개 부탁 드립니다.\\n안녕하세요! 와이즈솔루션 테크니컬 파...</td>\n",
       "      <td>mobile</td>\n",
       "    </tr>\n",
       "    <tr>\n",
       "      <th>122</th>\n",
       "      <td>모바일 앱이란?\\n모바일 앱은 응용 프로그램(application program)들...</td>\n",
       "      <td>mobile</td>\n",
       "    </tr>\n",
       "  </tbody>\n",
       "</table>\n",
       "<p>123 rows × 2 columns</p>\n",
       "</div>"
      ],
      "text/plain": [
       "                                                  data   label\n",
       "0    Game Designer(게임 디자이너)\\n\\n비디오 게임 제작자의 부류. 영어로는...    game\n",
       "1    게임크리에이터, 게임디자이너\\n게임기획자는 PC 게임, 네트워크 게임 등 게임용 소...    game\n",
       "2    게임기획자란?\\n실제 게임제작, 게임프로그래밍이나 그래픽 작업에 들어가기 전 어떤 ...    game\n",
       "3    하는일\\n컴퓨터 게임의 아이템과 스토리, 캐릭터 등을 구성 및 기획하고 제작 과정을...    game\n",
       "4    게임기획자\\n\\n게임 기획자는 게임 회사의 기획팀에 속해서 일하는 사람들을 말합니다...    game\n",
       "..                                                 ...     ...\n",
       "118  안녕하세요. 자기소개 부탁드립니다.\\n안녕하세요! 개발자 고영정이라고 합니다. 토스...  mobile\n",
       "119  버즈빌에 대한 간단한 소개도 부탁드립니다.\\n버즈빌은 글로벌 잠금 화면 광고 플랫폼...  mobile\n",
       "120  반갑습니다. 자기소개 부탁 드립니다.\\n안녕하세요. 캐시슬라이드에서 제품길드의 클라...  mobile\n",
       "121  안녕하세요. 간단한 자기소개 부탁 드립니다.\\n안녕하세요! 와이즈솔루션 테크니컬 파...  mobile\n",
       "122  모바일 앱이란?\\n모바일 앱은 응용 프로그램(application program)들...  mobile\n",
       "\n",
       "[123 rows x 2 columns]"
      ]
     },
     "execution_count": 110,
     "metadata": {},
     "output_type": "execute_result"
    }
   ],
   "source": [
    "a = pd.read_excel('total_최종.xlsx')\n",
    "a"
   ]
  },
  {
   "cell_type": "markdown",
   "id": "cc4f4f3b",
   "metadata": {},
   "source": [
    "# 특수문자 제거"
   ]
  },
  {
   "cell_type": "code",
   "execution_count": 111,
   "id": "38a97204",
   "metadata": {},
   "outputs": [
    {
     "name": "stderr",
     "output_type": "stream",
     "text": [
      "<ipython-input-111-f18787e8bf6f>:1: FutureWarning: The default value of regex will change from True to False in a future version.\n",
      "  a['data'] = a['data'].str.replace(\"[^가-힣ㄱ-ㅎㅏ-ㅣa-zA-Z0-9 ]\",\"\")\n"
     ]
    },
    {
     "data": {
      "text/html": [
       "<div>\n",
       "<style scoped>\n",
       "    .dataframe tbody tr th:only-of-type {\n",
       "        vertical-align: middle;\n",
       "    }\n",
       "\n",
       "    .dataframe tbody tr th {\n",
       "        vertical-align: top;\n",
       "    }\n",
       "\n",
       "    .dataframe thead th {\n",
       "        text-align: right;\n",
       "    }\n",
       "</style>\n",
       "<table border=\"1\" class=\"dataframe\">\n",
       "  <thead>\n",
       "    <tr style=\"text-align: right;\">\n",
       "      <th></th>\n",
       "      <th>data</th>\n",
       "      <th>label</th>\n",
       "    </tr>\n",
       "  </thead>\n",
       "  <tbody>\n",
       "    <tr>\n",
       "      <th>0</th>\n",
       "      <td>Game Designer게임 디자이너비디오 게임 제작자의 부류 영어로는 게임 디자이...</td>\n",
       "      <td>game</td>\n",
       "    </tr>\n",
       "    <tr>\n",
       "      <th>1</th>\n",
       "      <td>게임크리에이터 게임디자이너게임기획자는 PC 게임 네트워크 게임 등 게임용 소프트웨어...</td>\n",
       "      <td>game</td>\n",
       "    </tr>\n",
       "    <tr>\n",
       "      <th>2</th>\n",
       "      <td>게임기획자란실제 게임제작 게임프로그래밍이나 그래픽 작업에 들어가기 전 어떤 게임을 ...</td>\n",
       "      <td>game</td>\n",
       "    </tr>\n",
       "    <tr>\n",
       "      <th>3</th>\n",
       "      <td>하는일컴퓨터 게임의 아이템과 스토리 캐릭터 등을 구성 및 기획하고 제작 과정을 관리...</td>\n",
       "      <td>game</td>\n",
       "    </tr>\n",
       "    <tr>\n",
       "      <th>4</th>\n",
       "      <td>게임기획자게임 기획자는 게임 회사의 기획팀에 속해서 일하는 사람들을 말합니다 보통 ...</td>\n",
       "      <td>game</td>\n",
       "    </tr>\n",
       "    <tr>\n",
       "      <th>...</th>\n",
       "      <td>...</td>\n",
       "      <td>...</td>\n",
       "    </tr>\n",
       "    <tr>\n",
       "      <th>118</th>\n",
       "      <td>안녕하세요 자기소개 부탁드립니다안녕하세요 개발자 고영정이라고 합니다 토스랩은 잔디라...</td>\n",
       "      <td>mobile</td>\n",
       "    </tr>\n",
       "    <tr>\n",
       "      <th>119</th>\n",
       "      <td>버즈빌에 대한 간단한 소개도 부탁드립니다버즈빌은 글로벌 잠금 화면 광고 플랫폼을 만...</td>\n",
       "      <td>mobile</td>\n",
       "    </tr>\n",
       "    <tr>\n",
       "      <th>120</th>\n",
       "      <td>반갑습니다 자기소개 부탁 드립니다안녕하세요 캐시슬라이드에서 제품길드의 클라이언트 클...</td>\n",
       "      <td>mobile</td>\n",
       "    </tr>\n",
       "    <tr>\n",
       "      <th>121</th>\n",
       "      <td>안녕하세요 간단한 자기소개 부탁 드립니다안녕하세요 와이즈솔루션 테크니컬 파트에서 일...</td>\n",
       "      <td>mobile</td>\n",
       "    </tr>\n",
       "    <tr>\n",
       "      <th>122</th>\n",
       "      <td>모바일 앱이란모바일 앱은 응용 프로그램application program들 중 스마...</td>\n",
       "      <td>mobile</td>\n",
       "    </tr>\n",
       "  </tbody>\n",
       "</table>\n",
       "<p>123 rows × 2 columns</p>\n",
       "</div>"
      ],
      "text/plain": [
       "                                                  data   label\n",
       "0    Game Designer게임 디자이너비디오 게임 제작자의 부류 영어로는 게임 디자이...    game\n",
       "1    게임크리에이터 게임디자이너게임기획자는 PC 게임 네트워크 게임 등 게임용 소프트웨어...    game\n",
       "2    게임기획자란실제 게임제작 게임프로그래밍이나 그래픽 작업에 들어가기 전 어떤 게임을 ...    game\n",
       "3    하는일컴퓨터 게임의 아이템과 스토리 캐릭터 등을 구성 및 기획하고 제작 과정을 관리...    game\n",
       "4    게임기획자게임 기획자는 게임 회사의 기획팀에 속해서 일하는 사람들을 말합니다 보통 ...    game\n",
       "..                                                 ...     ...\n",
       "118  안녕하세요 자기소개 부탁드립니다안녕하세요 개발자 고영정이라고 합니다 토스랩은 잔디라...  mobile\n",
       "119  버즈빌에 대한 간단한 소개도 부탁드립니다버즈빌은 글로벌 잠금 화면 광고 플랫폼을 만...  mobile\n",
       "120  반갑습니다 자기소개 부탁 드립니다안녕하세요 캐시슬라이드에서 제품길드의 클라이언트 클...  mobile\n",
       "121  안녕하세요 간단한 자기소개 부탁 드립니다안녕하세요 와이즈솔루션 테크니컬 파트에서 일...  mobile\n",
       "122  모바일 앱이란모바일 앱은 응용 프로그램application program들 중 스마...  mobile\n",
       "\n",
       "[123 rows x 2 columns]"
      ]
     },
     "execution_count": 111,
     "metadata": {},
     "output_type": "execute_result"
    }
   ],
   "source": [
    "a['data'] = a['data'].str.replace(\"[^가-힣ㄱ-ㅎㅏ-ㅣa-zA-Z0-9 ]\",\"\")\n",
    "a"
   ]
  },
  {
   "cell_type": "markdown",
   "id": "b5545591",
   "metadata": {},
   "source": [
    "# 형태소 분석, 불용어 제거"
   ]
  },
  {
   "cell_type": "code",
   "execution_count": 112,
   "id": "179da1ed",
   "metadata": {
    "scrolled": true
   },
   "outputs": [
    {
     "data": {
      "application/vnd.jupyter.widget-view+json": {
       "model_id": "51b9d3776928428faea996323bc3f660",
       "version_major": 2,
       "version_minor": 0
      },
      "text/plain": [
       "  0%|          | 0/123 [00:00<?, ?it/s]"
      ]
     },
     "metadata": {},
     "output_type": "display_data"
    }
   ],
   "source": [
    "stopwords = ['의','가','이','은','들','는','좀','잘','걍','과','도','으로','자','에','와','한','하다','을', '를', '이', '가', '은', '는','이','그','있','n','nn','t','의','되','라','한','다','하','더','에','서','나',\n",
    "            '과','고','며','와','지','해','도','지','못','안','않','로','들','된','것','에는','안녕','반갑','내','등','할','자','있다','','직','군','위','식','각','출','창','시','수','및','신','영','화','살','여','양','송','대','데',\n",
    "            '연','구','살','장','또','적','D','력','인','향','년','후','생','기','봐','문','니','사','본','제','작','관','일','분','야','중','거','명','어','개','타','제','또는','요','전','몇','중','에서','있는데요','된다','또한','되','돼','않','으로','만','있습니다','하는','하는것이',\n",
    "            '만','푹','지금','하는','곳','있다','되다','만들다', '대한', '어떻다', '보다', '때문', '같다', '필요하다','관련','사용','않다', '에는',\n",
    "            '지식','이나','되어다','아니다','없다','위해','가장','고','다양하다', '팀', '담당', '전', '만',\n",
    "            '더', '요','또한','받다','갖추다','내', '따르다', '그렇다', '자다','게','정도', '좋다', '이다']\n",
    "\n",
    "# 형태소 분석기 OKT를 사용한 토큰화 작업 (다소 시간 소요)\n",
    "okt = Okt()\n",
    "tokenized_data = []\n",
    "\n",
    "for sentence in notebook.tqdm(b['data']):  # 프로그레스 바\n",
    "    temp_X = okt.morphs(sentence, stem=True) # 토큰화\n",
    "    temp_X = [word for word in temp_X if not word in stopwords] # 불용어 제거\n",
    "    #temp_X = [word for word in temp_X if len(word) > 1] # 한글자는 제거\n",
    "    tokenized_data.append(temp_X)"
   ]
  },
  {
   "cell_type": "markdown",
   "id": "ee79d608",
   "metadata": {},
   "source": [
    "# array 변환"
   ]
  },
  {
   "cell_type": "code",
   "execution_count": 113,
   "id": "ad7de130",
   "metadata": {},
   "outputs": [
    {
     "name": "stderr",
     "output_type": "stream",
     "text": [
      "<ipython-input-113-609f2ddec93a>:1: VisibleDeprecationWarning: Creating an ndarray from ragged nested sequences (which is a list-or-tuple of lists-or-tuples-or ndarrays with different lengths or shapes) is deprecated. If you meant to do this, you must specify 'dtype=object' when creating the ndarray\n",
      "  x = np.array(tokenized_data)\n"
     ]
    }
   ],
   "source": [
    "x = np.array(tokenized_data)\n",
    "y = a.label.values"
   ]
  },
  {
   "cell_type": "markdown",
   "id": "92dc12ba",
   "metadata": {},
   "source": [
    "# y라벨 변환"
   ]
  },
  {
   "cell_type": "code",
   "execution_count": 89,
   "id": "1281aeca",
   "metadata": {},
   "outputs": [
    {
     "name": "stdout",
     "output_type": "stream",
     "text": [
      "[0 0 0 0 0 0 0 0 0 0 0 0 0 0 0 0 0 0 0 0 0 0 0 0 0 0 0 0 0 0 0 0 0 0 0 0 0\n",
      " 0 0 0 0 0 0 0 0 0 2 2 2 2 2 2 2 2 2 2 2 2 2 2 2 2 2 2 2 2 2 2 2 2 2 2 2 2\n",
      " 2 2 2 2 2 2 2 2 2 2 2 2 2 2 2 2 2 2 1 1 1 1 1 1 1 1 1 1 1 1 1 1 1 1 1 1 1\n",
      " 1 1 1 1 1 1 1 1 1 1 1 1]\n"
     ]
    }
   ],
   "source": [
    "le = LabelEncoder()\n",
    "y = le.fit_transform(y)\n",
    "print(y)"
   ]
  },
  {
   "cell_type": "markdown",
   "id": "c429f031",
   "metadata": {},
   "source": [
    "# 라벨 원핫인코딩"
   ]
  },
  {
   "cell_type": "code",
   "execution_count": 90,
   "id": "0652f60c",
   "metadata": {
    "scrolled": true
   },
   "outputs": [
    {
     "name": "stdout",
     "output_type": "stream",
     "text": [
      "[[1. 0. 0.]\n",
      " [1. 0. 0.]\n",
      " [1. 0. 0.]\n",
      " [1. 0. 0.]\n",
      " [1. 0. 0.]\n",
      " [1. 0. 0.]\n",
      " [1. 0. 0.]\n",
      " [1. 0. 0.]\n",
      " [1. 0. 0.]\n",
      " [1. 0. 0.]\n",
      " [1. 0. 0.]\n",
      " [1. 0. 0.]\n",
      " [1. 0. 0.]\n",
      " [1. 0. 0.]\n",
      " [1. 0. 0.]\n",
      " [1. 0. 0.]\n",
      " [1. 0. 0.]\n",
      " [1. 0. 0.]\n",
      " [1. 0. 0.]\n",
      " [1. 0. 0.]\n",
      " [1. 0. 0.]\n",
      " [1. 0. 0.]\n",
      " [1. 0. 0.]\n",
      " [1. 0. 0.]\n",
      " [1. 0. 0.]\n",
      " [1. 0. 0.]\n",
      " [1. 0. 0.]\n",
      " [1. 0. 0.]\n",
      " [1. 0. 0.]\n",
      " [1. 0. 0.]\n",
      " [1. 0. 0.]\n",
      " [1. 0. 0.]\n",
      " [1. 0. 0.]\n",
      " [1. 0. 0.]\n",
      " [1. 0. 0.]\n",
      " [1. 0. 0.]\n",
      " [1. 0. 0.]\n",
      " [1. 0. 0.]\n",
      " [1. 0. 0.]\n",
      " [1. 0. 0.]\n",
      " [1. 0. 0.]\n",
      " [1. 0. 0.]\n",
      " [1. 0. 0.]\n",
      " [1. 0. 0.]\n",
      " [1. 0. 0.]\n",
      " [1. 0. 0.]\n",
      " [0. 0. 1.]\n",
      " [0. 0. 1.]\n",
      " [0. 0. 1.]\n",
      " [0. 0. 1.]\n",
      " [0. 0. 1.]\n",
      " [0. 0. 1.]\n",
      " [0. 0. 1.]\n",
      " [0. 0. 1.]\n",
      " [0. 0. 1.]\n",
      " [0. 0. 1.]\n",
      " [0. 0. 1.]\n",
      " [0. 0. 1.]\n",
      " [0. 0. 1.]\n",
      " [0. 0. 1.]\n",
      " [0. 0. 1.]\n",
      " [0. 0. 1.]\n",
      " [0. 0. 1.]\n",
      " [0. 0. 1.]\n",
      " [0. 0. 1.]\n",
      " [0. 0. 1.]\n",
      " [0. 0. 1.]\n",
      " [0. 0. 1.]\n",
      " [0. 0. 1.]\n",
      " [0. 0. 1.]\n",
      " [0. 0. 1.]\n",
      " [0. 0. 1.]\n",
      " [0. 0. 1.]\n",
      " [0. 0. 1.]\n",
      " [0. 0. 1.]\n",
      " [0. 0. 1.]\n",
      " [0. 0. 1.]\n",
      " [0. 0. 1.]\n",
      " [0. 0. 1.]\n",
      " [0. 0. 1.]\n",
      " [0. 0. 1.]\n",
      " [0. 0. 1.]\n",
      " [0. 0. 1.]\n",
      " [0. 0. 1.]\n",
      " [0. 0. 1.]\n",
      " [0. 0. 1.]\n",
      " [0. 0. 1.]\n",
      " [0. 0. 1.]\n",
      " [0. 0. 1.]\n",
      " [0. 0. 1.]\n",
      " [0. 0. 1.]\n",
      " [0. 0. 1.]\n",
      " [0. 1. 0.]\n",
      " [0. 1. 0.]\n",
      " [0. 1. 0.]\n",
      " [0. 1. 0.]\n",
      " [0. 1. 0.]\n",
      " [0. 1. 0.]\n",
      " [0. 1. 0.]\n",
      " [0. 1. 0.]\n",
      " [0. 1. 0.]\n",
      " [0. 1. 0.]\n",
      " [0. 1. 0.]\n",
      " [0. 1. 0.]\n",
      " [0. 1. 0.]\n",
      " [0. 1. 0.]\n",
      " [0. 1. 0.]\n",
      " [0. 1. 0.]\n",
      " [0. 1. 0.]\n",
      " [0. 1. 0.]\n",
      " [0. 1. 0.]\n",
      " [0. 1. 0.]\n",
      " [0. 1. 0.]\n",
      " [0. 1. 0.]\n",
      " [0. 1. 0.]\n",
      " [0. 1. 0.]\n",
      " [0. 1. 0.]\n",
      " [0. 1. 0.]\n",
      " [0. 1. 0.]\n",
      " [0. 1. 0.]\n",
      " [0. 1. 0.]\n",
      " [0. 1. 0.]\n",
      " [0. 1. 0.]]\n"
     ]
    }
   ],
   "source": [
    "y_cat = to_categorical(y)\n",
    "print(y_cat)"
   ]
  },
  {
   "cell_type": "markdown",
   "id": "e92bdddb",
   "metadata": {},
   "source": [
    "# 트레인 테스트 나누기"
   ]
  },
  {
   "cell_type": "code",
   "execution_count": 91,
   "id": "8b418881",
   "metadata": {},
   "outputs": [],
   "source": [
    "x_train, x_test, y_train, y_test = train_test_split(x, y_cat, test_size=0.1, stratify=y_cat, random_state=777)\n"
   ]
  },
  {
   "cell_type": "markdown",
   "id": "f6b91eb2",
   "metadata": {},
   "source": [
    "# 토큰화"
   ]
  },
  {
   "cell_type": "code",
   "execution_count": 92,
   "id": "a2fdd226",
   "metadata": {},
   "outputs": [],
   "source": [
    "max_words = 2000\n",
    "max_len = 500\n",
    "\n",
    "#토크나이저로 변환\n",
    "#tok = Tokenizer(num_words = max_words)\n",
    "tok = Tokenizer(num_words = max_words)\n",
    "tok.fit_on_texts(x_train)"
   ]
  },
  {
   "cell_type": "markdown",
   "id": "7fd6dddf",
   "metadata": {},
   "source": [
    "# x_train text_to_sequences, pad_sequences 작업"
   ]
  },
  {
   "cell_type": "code",
   "execution_count": 93,
   "id": "35f3703e",
   "metadata": {},
   "outputs": [],
   "source": [
    "sequences = tok.texts_to_sequences(x_train)"
   ]
  },
  {
   "cell_type": "code",
   "execution_count": 94,
   "id": "ca1cb7aa",
   "metadata": {
    "scrolled": true
   },
   "outputs": [],
   "source": [
    "sequences_matrix = sequence.pad_sequences(sequences, maxlen=max_len)"
   ]
  },
  {
   "cell_type": "markdown",
   "id": "c6cb6ff1",
   "metadata": {},
   "source": [
    "# 모델정의"
   ]
  },
  {
   "cell_type": "code",
   "execution_count": 98,
   "id": "4afd9e2f",
   "metadata": {},
   "outputs": [
    {
     "name": "stdout",
     "output_type": "stream",
     "text": [
      "Model: \"sequential_5\"\n",
      "_________________________________________________________________\n",
      "Layer (type)                 Output Shape              Param #   \n",
      "=================================================================\n",
      "embedding_5 (Embedding)      (None, 500, 50)           100000    \n",
      "_________________________________________________________________\n",
      "lstm_5 (LSTM)                (None, 500, 64)           29440     \n",
      "_________________________________________________________________\n",
      "global_max_pooling1d_5 (Glob (None, 64)                0         \n",
      "_________________________________________________________________\n",
      "dense_10 (Dense)             (None, 256)               16640     \n",
      "_________________________________________________________________\n",
      "dropout_5 (Dropout)          (None, 256)               0         \n",
      "_________________________________________________________________\n",
      "dense_11 (Dense)             (None, 3)                 771       \n",
      "=================================================================\n",
      "Total params: 146,851\n",
      "Trainable params: 146,851\n",
      "Non-trainable params: 0\n",
      "_________________________________________________________________\n"
     ]
    }
   ],
   "source": [
    "model = Sequential()\n",
    "#max_words를 50차원에. 즉 1000개의 단어를 50차원에다가. 문장의 길이는 max_len\n",
    "model.add(Embedding(2000 ,output_dim=50,input_length=max_len))\n",
    "model.add(LSTM(64, return_sequences=True))\n",
    "model.add(GlobalMaxPool1D())\n",
    "model.add(Dense(256, activation='relu'))\n",
    "model.add(Dropout(0.5))\n",
    "model.add(Dense(3, activation='softmax'))\n",
    "\n",
    "model.summary()\n",
    "\n",
    "model.compile(loss='categorical_crossentropy',optimizer='adam',metrics=['accuracy'])\n",
    "model_dir = './model2'\n",
    "#rmsprop optimizer\n",
    "if not os.path.exists(model_dir):\n",
    "    os.mkdir(model_dir)\n",
    "model_path = model_dir + \"/tt_{epoch:02d}-{val_loss:.4f}.hdf5\"\n",
    "checkpoint = ModelCheckpoint(filepath=model_path, monitor='val_loss', verbose=1, save_best_only=True)\n",
    "early_stopping = EarlyStopping(monitor='val_loss', patience=7)"
   ]
  },
  {
   "cell_type": "code",
   "execution_count": 99,
   "id": "fac7c6d4",
   "metadata": {
    "scrolled": true
   },
   "outputs": [
    {
     "name": "stdout",
     "output_type": "stream",
     "text": [
      "Epoch 1/50\n",
      "18/18 [==============================] - ETA: 0s - loss: 1.0976 - accuracy: 0.3636 ETA: 2s - loss:\n",
      "Epoch 00001: val_loss improved from inf to 1.07424, saving model to ./model2\\tt_01-1.0742.hdf5\n",
      "18/18 [==============================] - 4s 240ms/step - loss: 1.0976 - accuracy: 0.3636 - val_loss: 1.0742 - val_accuracy: 0.5909\n",
      "Epoch 2/50\n",
      "18/18 [==============================] - ETA: 0s - loss: 1.0822 - accuracy: 0.4318\n",
      "Epoch 00002: val_loss improved from 1.07424 to 1.05154, saving model to ./model2\\tt_02-1.0515.hdf5\n",
      "18/18 [==============================] - 2s 128ms/step - loss: 1.0822 - accuracy: 0.4318 - val_loss: 1.0515 - val_accuracy: 0.5455\n",
      "Epoch 3/50\n",
      "18/18 [==============================] - ETA: 0s - loss: 1.0009 - accuracy: 0.7045\n",
      "Epoch 00003: val_loss did not improve from 1.05154\n",
      "18/18 [==============================] - 2s 87ms/step - loss: 1.0009 - accuracy: 0.7045 - val_loss: 1.4957 - val_accuracy: 0.4545\n",
      "Epoch 4/50\n",
      "18/18 [==============================] - ETA: 0s - loss: 1.1538 - accuracy: 0.4773\n",
      "Epoch 00004: val_loss improved from 1.05154 to 0.90396, saving model to ./model2\\tt_04-0.9040.hdf5\n",
      "18/18 [==============================] - 2s 96ms/step - loss: 1.1538 - accuracy: 0.4773 - val_loss: 0.9040 - val_accuracy: 0.6364\n",
      "Epoch 5/50\n",
      "18/18 [==============================] - ETA: 0s - loss: 0.7721 - accuracy: 0.7045\n",
      "Epoch 00005: val_loss improved from 0.90396 to 0.71786, saving model to ./model2\\tt_05-0.7179.hdf5\n",
      "18/18 [==============================] - 2s 86ms/step - loss: 0.7721 - accuracy: 0.7045 - val_loss: 0.7179 - val_accuracy: 0.7273\n",
      "Epoch 6/50\n",
      "18/18 [==============================] - ETA: 0s - loss: 0.6741 - accuracy: 0.7614\n",
      "Epoch 00006: val_loss improved from 0.71786 to 0.53139, saving model to ./model2\\tt_06-0.5314.hdf5\n",
      "18/18 [==============================] - 2s 91ms/step - loss: 0.6741 - accuracy: 0.7614 - val_loss: 0.5314 - val_accuracy: 0.8636\n",
      "Epoch 7/50\n",
      "18/18 [==============================] - ETA: 0s - loss: 0.4775 - accuracy: 0.8295 ETA: 0s - loss: 0.4\n",
      "Epoch 00007: val_loss improved from 0.53139 to 0.36268, saving model to ./model2\\tt_07-0.3627.hdf5\n",
      "18/18 [==============================] - 2s 98ms/step - loss: 0.4775 - accuracy: 0.8295 - val_loss: 0.3627 - val_accuracy: 0.8636\n",
      "Epoch 8/50\n",
      "18/18 [==============================] - ETA: 0s - loss: 0.2927 - accuracy: 0.9432\n",
      "Epoch 00008: val_loss improved from 0.36268 to 0.08240, saving model to ./model2\\tt_08-0.0824.hdf5\n",
      "18/18 [==============================] - 2s 101ms/step - loss: 0.2927 - accuracy: 0.9432 - val_loss: 0.0824 - val_accuracy: 1.0000\n",
      "Epoch 9/50\n",
      "18/18 [==============================] - ETA: 0s - loss: 0.1266 - accuracy: 0.9659\n",
      "Epoch 00009: val_loss did not improve from 0.08240\n",
      "18/18 [==============================] - 2s 86ms/step - loss: 0.1266 - accuracy: 0.9659 - val_loss: 0.2846 - val_accuracy: 0.9091\n",
      "Epoch 10/50\n",
      "18/18 [==============================] - ETA: 0s - loss: 0.0468 - accuracy: 1.0000\n",
      "Epoch 00010: val_loss did not improve from 0.08240\n",
      "18/18 [==============================] - 1s 80ms/step - loss: 0.0468 - accuracy: 1.0000 - val_loss: 0.2776 - val_accuracy: 0.9091\n",
      "Epoch 11/50\n",
      "18/18 [==============================] - ETA: 0s - loss: 0.0109 - accuracy: 1.0000\n",
      "Epoch 00011: val_loss did not improve from 0.08240\n",
      "18/18 [==============================] - 1s 80ms/step - loss: 0.0109 - accuracy: 1.0000 - val_loss: 0.1130 - val_accuracy: 0.9545\n",
      "Epoch 12/50\n",
      "18/18 [==============================] - ETA: 0s - loss: 0.0093 - accuracy: 1.0000\n",
      "Epoch 00012: val_loss improved from 0.08240 to 0.03295, saving model to ./model2\\tt_12-0.0330.hdf5\n",
      "18/18 [==============================] - 1s 81ms/step - loss: 0.0093 - accuracy: 1.0000 - val_loss: 0.0330 - val_accuracy: 1.0000\n",
      "Epoch 13/50\n",
      "18/18 [==============================] - ETA: 0s - loss: 0.0050 - accuracy: 1.0000\n",
      "Epoch 00013: val_loss improved from 0.03295 to 0.02416, saving model to ./model2\\tt_13-0.0242.hdf5\n",
      "18/18 [==============================] - 1s 82ms/step - loss: 0.0050 - accuracy: 1.0000 - val_loss: 0.0242 - val_accuracy: 1.0000\n",
      "Epoch 14/50\n",
      "18/18 [==============================] - ETA: 0s - loss: 0.0044 - accuracy: 1.0000\n",
      "Epoch 00014: val_loss improved from 0.02416 to 0.02063, saving model to ./model2\\tt_14-0.0206.hdf5\n",
      "18/18 [==============================] - 2s 91ms/step - loss: 0.0044 - accuracy: 1.0000 - val_loss: 0.0206 - val_accuracy: 1.0000\n",
      "Epoch 15/50\n",
      "18/18 [==============================] - ETA: 0s - loss: 0.0025 - accuracy: 1.0000\n",
      "Epoch 00015: val_loss improved from 0.02063 to 0.01905, saving model to ./model2\\tt_15-0.0191.hdf5\n",
      "18/18 [==============================] - 1s 82ms/step - loss: 0.0025 - accuracy: 1.0000 - val_loss: 0.0191 - val_accuracy: 1.0000\n",
      "Epoch 16/50\n",
      "18/18 [==============================] - ETA: 0s - loss: 0.0018 - accuracy: 1.0000\n",
      "Epoch 00016: val_loss improved from 0.01905 to 0.01875, saving model to ./model2\\tt_16-0.0187.hdf5\n",
      "18/18 [==============================] - 2s 86ms/step - loss: 0.0018 - accuracy: 1.0000 - val_loss: 0.0187 - val_accuracy: 1.0000\n",
      "Epoch 17/50\n",
      "18/18 [==============================] - ETA: 0s - loss: 0.0013 - accuracy: 1.0000\n",
      "Epoch 00017: val_loss did not improve from 0.01875\n",
      "18/18 [==============================] - 2s 91ms/step - loss: 0.0013 - accuracy: 1.0000 - val_loss: 0.2927 - val_accuracy: 0.9545\n",
      "Epoch 18/50\n",
      "18/18 [==============================] - ETA: 0s - loss: 0.0017 - accuracy: 1.0000\n",
      "Epoch 00018: val_loss did not improve from 0.01875\n",
      "18/18 [==============================] - 2s 84ms/step - loss: 0.0017 - accuracy: 1.0000 - val_loss: 0.2993 - val_accuracy: 0.9545\n",
      "Epoch 19/50\n",
      "18/18 [==============================] - ETA: 0s - loss: 0.0019 - accuracy: 1.0000\n",
      "Epoch 00019: val_loss did not improve from 0.01875\n",
      "18/18 [==============================] - 2s 90ms/step - loss: 0.0019 - accuracy: 1.0000 - val_loss: 0.3106 - val_accuracy: 0.9545\n",
      "Epoch 20/50\n",
      "18/18 [==============================] - ETA: 0s - loss: 0.0011 - accuracy: 1.0000\n",
      "Epoch 00020: val_loss did not improve from 0.01875\n",
      "18/18 [==============================] - 2s 86ms/step - loss: 0.0011 - accuracy: 1.0000 - val_loss: 0.3171 - val_accuracy: 0.9545\n",
      "Epoch 21/50\n",
      "18/18 [==============================] - ETA: 0s - loss: 8.4520e-04 - accuracy: 1.0000\n",
      "Epoch 00021: val_loss did not improve from 0.01875\n",
      "18/18 [==============================] - 2s 94ms/step - loss: 8.4520e-04 - accuracy: 1.0000 - val_loss: 0.3250 - val_accuracy: 0.9545\n",
      "Epoch 22/50\n",
      "18/18 [==============================] - ETA: 0s - loss: 0.0015 - accuracy: 1.0000\n",
      "Epoch 00022: val_loss did not improve from 0.01875\n",
      "18/18 [==============================] - 1s 83ms/step - loss: 0.0015 - accuracy: 1.0000 - val_loss: 0.3301 - val_accuracy: 0.9545\n",
      "Epoch 23/50\n",
      "18/18 [==============================] - ETA: 0s - loss: 0.0012 - accuracy: 1.0000\n",
      "Epoch 00023: val_loss did not improve from 0.01875\n",
      "18/18 [==============================] - 2s 93ms/step - loss: 0.0012 - accuracy: 1.0000 - val_loss: 0.3377 - val_accuracy: 0.9545\n",
      "Epoch 24/50\n",
      "18/18 [==============================] - ETA: 0s - loss: 4.9389e-04 - accuracy: 1.0000\n",
      "Epoch 00024: val_loss did not improve from 0.01875\n",
      "18/18 [==============================] - 2s 90ms/step - loss: 4.9389e-04 - accuracy: 1.0000 - val_loss: 0.3438 - val_accuracy: 0.9545\n",
      "Epoch 25/50\n",
      "18/18 [==============================] - ETA: 0s - loss: 6.8314e-04 - accuracy: 1.0000\n",
      "Epoch 00025: val_loss did not improve from 0.01875\n",
      "18/18 [==============================] - 2s 87ms/step - loss: 6.8314e-04 - accuracy: 1.0000 - val_loss: 0.3477 - val_accuracy: 0.9545\n",
      "Epoch 26/50\n",
      "18/18 [==============================] - ETA: 0s - loss: 7.6258e-04 - accuracy: 1.0000\n",
      "Epoch 00026: val_loss did not improve from 0.01875\n",
      "18/18 [==============================] - 1s 80ms/step - loss: 7.6258e-04 - accuracy: 1.0000 - val_loss: 0.3518 - val_accuracy: 0.9545\n",
      "Epoch 27/50\n",
      "18/18 [==============================] - ETA: 0s - loss: 4.6587e-04 - accuracy: 1.0000\n",
      "Epoch 00027: val_loss did not improve from 0.01875\n",
      "18/18 [==============================] - 1s 80ms/step - loss: 4.6587e-04 - accuracy: 1.0000 - val_loss: 0.3559 - val_accuracy: 0.9545\n",
      "Epoch 28/50\n",
      "18/18 [==============================] - ETA: 0s - loss: 5.5912e-04 - accuracy: 1.0000\n",
      "Epoch 00028: val_loss did not improve from 0.01875\n",
      "18/18 [==============================] - 2s 84ms/step - loss: 5.5912e-04 - accuracy: 1.0000 - val_loss: 0.3633 - val_accuracy: 0.9545\n"
     ]
    },
    {
     "name": "stdout",
     "output_type": "stream",
     "text": [
      "Epoch 29/50\n",
      "18/18 [==============================] - ETA: 0s - loss: 5.4499e-04 - accuracy: 1.0000\n",
      "Epoch 00029: val_loss did not improve from 0.01875\n",
      "18/18 [==============================] - 1s 79ms/step - loss: 5.4499e-04 - accuracy: 1.0000 - val_loss: 0.3699 - val_accuracy: 0.9545\n",
      "Epoch 30/50\n",
      "18/18 [==============================] - ETA: 0s - loss: 4.3496e-04 - accuracy: 1.0000\n",
      "Epoch 00030: val_loss did not improve from 0.01875\n",
      "18/18 [==============================] - 1s 81ms/step - loss: 4.3496e-04 - accuracy: 1.0000 - val_loss: 0.3736 - val_accuracy: 0.9545\n",
      "Epoch 31/50\n",
      "18/18 [==============================] - ETA: 0s - loss: 6.7933e-04 - accuracy: 1.0000\n",
      "Epoch 00031: val_loss did not improve from 0.01875\n",
      "18/18 [==============================] - 1s 82ms/step - loss: 6.7933e-04 - accuracy: 1.0000 - val_loss: 0.3798 - val_accuracy: 0.9545\n",
      "Epoch 32/50\n",
      "18/18 [==============================] - ETA: 0s - loss: 3.6163e-04 - accuracy: 1.0000\n",
      "Epoch 00032: val_loss did not improve from 0.01875\n",
      "18/18 [==============================] - 1s 81ms/step - loss: 3.6163e-04 - accuracy: 1.0000 - val_loss: 0.3865 - val_accuracy: 0.9545\n",
      "Epoch 33/50\n",
      "18/18 [==============================] - ETA: 0s - loss: 4.3031e-04 - accuracy: 1.0000\n",
      "Epoch 00033: val_loss did not improve from 0.01875\n",
      "18/18 [==============================] - 1s 82ms/step - loss: 4.3031e-04 - accuracy: 1.0000 - val_loss: 0.3909 - val_accuracy: 0.9545\n",
      "Epoch 34/50\n",
      "18/18 [==============================] - ETA: 0s - loss: 2.8142e-04 - accuracy: 1.0000\n",
      "Epoch 00034: val_loss did not improve from 0.01875\n",
      "18/18 [==============================] - 1s 83ms/step - loss: 2.8142e-04 - accuracy: 1.0000 - val_loss: 0.3941 - val_accuracy: 0.9545\n",
      "Epoch 35/50\n",
      "18/18 [==============================] - ETA: 0s - loss: 4.4685e-04 - accuracy: 1.0000\n",
      "Epoch 00035: val_loss did not improve from 0.01875\n",
      "18/18 [==============================] - 2s 84ms/step - loss: 4.4685e-04 - accuracy: 1.0000 - val_loss: 0.3983 - val_accuracy: 0.9545\n",
      "Epoch 36/50\n",
      "18/18 [==============================] - ETA: 0s - loss: 4.6806e-04 - accuracy: 1.0000\n",
      "Epoch 00036: val_loss did not improve from 0.01875\n",
      "18/18 [==============================] - 1s 80ms/step - loss: 4.6806e-04 - accuracy: 1.0000 - val_loss: 0.4013 - val_accuracy: 0.9545\n",
      "Epoch 37/50\n",
      "18/18 [==============================] - ETA: 0s - loss: 2.3266e-04 - accuracy: 1.0000\n",
      "Epoch 00037: val_loss did not improve from 0.01875\n",
      "18/18 [==============================] - 1s 82ms/step - loss: 2.3266e-04 - accuracy: 1.0000 - val_loss: 0.4037 - val_accuracy: 0.9545\n",
      "Epoch 38/50\n",
      "18/18 [==============================] - ETA: 0s - loss: 2.2830e-04 - accuracy: 1.0000\n",
      "Epoch 00038: val_loss did not improve from 0.01875\n",
      "18/18 [==============================] - 1s 78ms/step - loss: 2.2830e-04 - accuracy: 1.0000 - val_loss: 0.4079 - val_accuracy: 0.9545\n",
      "Epoch 39/50\n",
      "18/18 [==============================] - ETA: 0s - loss: 2.3636e-04 - accuracy: 1.0000\n",
      "Epoch 00039: val_loss did not improve from 0.01875\n",
      "18/18 [==============================] - 2s 91ms/step - loss: 2.3636e-04 - accuracy: 1.0000 - val_loss: 0.4119 - val_accuracy: 0.9545\n",
      "Epoch 40/50\n",
      "18/18 [==============================] - ETA: 0s - loss: 4.1392e-04 - accuracy: 1.0000\n",
      "Epoch 00040: val_loss did not improve from 0.01875\n",
      "18/18 [==============================] - 1s 82ms/step - loss: 4.1392e-04 - accuracy: 1.0000 - val_loss: 0.4142 - val_accuracy: 0.9545\n",
      "Epoch 41/50\n",
      "18/18 [==============================] - ETA: 0s - loss: 3.4167e-04 - accuracy: 1.0000\n",
      "Epoch 00041: val_loss did not improve from 0.01875\n",
      "18/18 [==============================] - 1s 82ms/step - loss: 3.4167e-04 - accuracy: 1.0000 - val_loss: 0.4154 - val_accuracy: 0.9545\n",
      "Epoch 42/50\n",
      "18/18 [==============================] - ETA: 0s - loss: 3.3664e-04 - accuracy: 1.0000\n",
      "Epoch 00042: val_loss did not improve from 0.01875\n",
      "18/18 [==============================] - 1s 82ms/step - loss: 3.3664e-04 - accuracy: 1.0000 - val_loss: 0.4196 - val_accuracy: 0.9545\n",
      "Epoch 43/50\n",
      "18/18 [==============================] - ETA: 0s - loss: 1.9823e-04 - accuracy: 1.0000\n",
      "Epoch 00043: val_loss did not improve from 0.01875\n",
      "18/18 [==============================] - 2s 84ms/step - loss: 1.9823e-04 - accuracy: 1.0000 - val_loss: 0.4217 - val_accuracy: 0.9545\n",
      "Epoch 44/50\n",
      "18/18 [==============================] - ETA: 0s - loss: 2.5026e-04 - accuracy: 1.0000\n",
      "Epoch 00044: val_loss did not improve from 0.01875\n",
      "18/18 [==============================] - 1s 79ms/step - loss: 2.5026e-04 - accuracy: 1.0000 - val_loss: 0.4250 - val_accuracy: 0.9545\n",
      "Epoch 45/50\n",
      "18/18 [==============================] - ETA: 0s - loss: 2.7944e-04 - accuracy: 1.0000\n",
      "Epoch 00045: val_loss did not improve from 0.01875\n",
      "18/18 [==============================] - 1s 82ms/step - loss: 2.7944e-04 - accuracy: 1.0000 - val_loss: 0.4297 - val_accuracy: 0.9545\n",
      "Epoch 46/50\n",
      "18/18 [==============================] - ETA: 0s - loss: 1.4221e-04 - accuracy: 1.0000\n",
      "Epoch 00046: val_loss did not improve from 0.01875\n",
      "18/18 [==============================] - 2s 94ms/step - loss: 1.4221e-04 - accuracy: 1.0000 - val_loss: 0.4332 - val_accuracy: 0.9545\n",
      "Epoch 47/50\n",
      "18/18 [==============================] - ETA: 0s - loss: 1.8392e-04 - accuracy: 1.0000\n",
      "Epoch 00047: val_loss did not improve from 0.01875\n",
      "18/18 [==============================] - 1s 80ms/step - loss: 1.8392e-04 - accuracy: 1.0000 - val_loss: 0.4364 - val_accuracy: 0.9545\n",
      "Epoch 48/50\n",
      "18/18 [==============================] - ETA: 0s - loss: 1.1015e-04 - accuracy: 1.0000\n",
      "Epoch 00048: val_loss did not improve from 0.01875\n",
      "18/18 [==============================] - 1s 80ms/step - loss: 1.1015e-04 - accuracy: 1.0000 - val_loss: 0.4384 - val_accuracy: 0.9545\n",
      "Epoch 49/50\n",
      "18/18 [==============================] - ETA: 0s - loss: 3.2151e-04 - accuracy: 1.0000\n",
      "Epoch 00049: val_loss did not improve from 0.01875\n",
      "18/18 [==============================] - 1s 80ms/step - loss: 3.2151e-04 - accuracy: 1.0000 - val_loss: 0.4422 - val_accuracy: 0.9545\n",
      "Epoch 50/50\n",
      "18/18 [==============================] - ETA: 0s - loss: 2.0617e-04 - accuracy: 1.0000\n",
      "Epoch 00050: val_loss did not improve from 0.01875\n",
      "18/18 [==============================] - 2s 91ms/step - loss: 2.0617e-04 - accuracy: 1.0000 - val_loss: 0.4456 - val_accuracy: 0.9545\n"
     ]
    }
   ],
   "source": [
    "hist = model.fit(sequences_matrix, y_train, batch_size=5, epochs=50, validation_split=0.2 ,callbacks=[checkpoint]) #, early_stopping])"
   ]
  },
  {
   "cell_type": "markdown",
   "id": "f32699c9",
   "metadata": {},
   "source": [
    "# 결과 그래프화"
   ]
  },
  {
   "cell_type": "code",
   "execution_count": 100,
   "id": "201fb4ab",
   "metadata": {},
   "outputs": [
    {
     "data": {
      "image/png": "[encoded data removed]",
      "text/plain": [
       "<Figure size 432x288 with 1 Axes>"
      ]
     },
     "metadata": {
      "needs_background": "light"
     },
     "output_type": "display_data"
    }
   ],
   "source": [
    "y_vloss = hist.history['val_loss']\n",
    "y_loss = hist.history['loss']\n",
    "\n",
    "x_len = np.arange(len(y_loss))\n",
    "\n",
    "plt.plot(x_len, y_vloss, marker='.', c='red', label='test_set_loss')\n",
    "plt.plot(x_len, y_loss, marker='.', c='blue', label='train_set_oss')\n",
    "plt.legend()\n",
    "plt.xlabel('epochs')\n",
    "plt.ylabel('loss')\n",
    "plt.grid()\n",
    "plt.show()"
   ]
  },
  {
   "cell_type": "code",
   "execution_count": 101,
   "id": "8909bcfb",
   "metadata": {},
   "outputs": [
    {
     "data": {
      "image/png": "[encoded data removed]",
      "text/plain": [
       "<Figure size 432x288 with 1 Axes>"
      ]
     },
     "metadata": {
      "needs_background": "light"
     },
     "output_type": "display_data"
    }
   ],
   "source": [
    "y_vloss = hist.history['val_accuracy']\n",
    "y_loss = hist.history['accuracy']\n",
    "\n",
    "x_len = np.arange(len(y_loss))\n",
    "\n",
    "plt.plot(x_len, y_vloss, marker='.', c='red', label='val_set_loss')\n",
    "plt.plot(x_len, y_loss, marker='.', c='blue', label='train_set_oss')\n",
    "plt.legend()\n",
    "plt.xlabel('epochs')\n",
    "plt.ylabel('loss')\n",
    "plt.grid()\n",
    "plt.show()"
   ]
  },
  {
   "cell_type": "markdown",
   "id": "1a434299",
   "metadata": {},
   "source": [
    "# 입력데이터"
   ]
  },
  {
   "cell_type": "code",
   "execution_count": 103,
   "id": "edf093e4",
   "metadata": {},
   "outputs": [],
   "source": [
    "def word_predict(word,tok2):\n",
    "    loaded_model = load_model('./model2/tt_16-0.0187.hdf5')\n",
    "    word_input = [okt.morphs(word.replace(' ', ''), norm=True)]\n",
    "    temp=[]\n",
    "    for j in range(len(word_input)):\n",
    "        for document in word_input[j]:\n",
    "            temp.append(re.sub(r'[^ ㄱ-ㅣ가-힣A-Za-z]', '', document)) #특수기호 제거, 정규 표현식    \n",
    "        word_input[j] = temp\n",
    "        temp=[]\n",
    "    stopwords = ['을', '를', '이', '가', '은', '는','이','그','있','n','nn','t','의','되','라','한','다','하','더','에','서','나',\n",
    "            '과','고','며','와','지','해','도','지','못','안','않','로','들','된','것','에는','안녕',\n",
    "            '반갑','내','등','할','자','있다','','직','군','위','식','각','출','창','시','수','및','신','영','화','살','여','양','송','대','데',\n",
    "            '연','구','살','장','또','적','D','력','인','향','년','후','생','기','봐','문','니','사','본','제','작','관','일','분','야',\n",
    "            '중','거','명','어','개','타','제','또는','요','전','몇','중','에서','있는데요','된다','또한','되','돼','않','으로','만','있습니다','하는','하는것이',\n",
    "            '만','푹','지금','하는','곳',]\n",
    "    \n",
    "    token=[]\n",
    "    for w in word_input:\n",
    "        temp_X=[]\n",
    "        temp_X =w\n",
    "        temp_X = [t for t in temp_X if not t in stopwords]\n",
    "        token.append(temp_X)\n",
    "    print(token)\n",
    "    max_word = 8000\n",
    "    tok1 = tok2.texts_to_sequences(token)\n",
    "    print(tok1)\n",
    "    if not tok1:\n",
    "        return print(\"다른 단어를 입력해주세요\")\n",
    "    max_len = 600\n",
    "    sequences_matrix = sequence.pad_sequences(tok1, maxlen=max_len)\n",
    "    print(ac_label[np.argmax(loaded_model.predict(sequences_matrix), axis=1)[0]])\n",
    "\n",
    "\n",
    "\n"
   ]
  },
  {
   "cell_type": "code",
   "execution_count": 104,
   "id": "b0a8b07a",
   "metadata": {},
   "outputs": [],
   "source": [
    "ac_label=['game','mobile','web']"
   ]
  },
  {
   "cell_type": "code",
   "execution_count": 108,
   "id": "8c51f051",
   "metadata": {
    "scrolled": true
   },
   "outputs": [
    {
     "name": "stdout",
     "output_type": "stream",
     "text": [
      "[['모바일', '안드로이드', '아이폰', '앱스토어', '앱']]\n",
      "[[11, 58, 186, 817, 5]]\n",
      "WARNING:tensorflow:Model was constructed with shape (None, 500) for input Tensor(\"embedding_5_input_4:0\", shape=(None, 500), dtype=float32), but it was called on an input with incompatible shape (None, 600).\n",
      "WARNING:tensorflow:11 out of the last 11 calls to <function Model.make_predict_function.<locals>.predict_function at 0x000001E3820C8EE0> triggered tf.function retracing. Tracing is expensive and the excessive number of tracings could be due to (1) creating @tf.function repeatedly in a loop, (2) passing tensors with different shapes, (3) passing Python objects instead of tensors. For (1), please define your @tf.function outside of the loop. For (2), @tf.function has experimental_relax_shapes=True option that relaxes argument shapes that can avoid unnecessary retracing. For (3), please refer to https://www.tensorflow.org/tutorials/customization/performance#python_or_tensor_args and https://www.tensorflow.org/api_docs/python/tf/function for  more details.\n",
      "mobile\n"
     ]
    }
   ],
   "source": [
    "word_predict(\"모바일 안드로이드 아이폰 앱스토어 앱\", tok)"
   ]
  }
 ],
 "metadata": {
  "kernelspec": {
   "display_name": "Python 3",
   "language": "python",
   "name": "python3"
  },
  "language_info": {
   "codemirror_mode": {
    "name": "ipython",
    "version": 3
   },
   "file_extension": ".py",
   "mimetype": "text/x-python",
   "name": "python",
   "nbconvert_exporter": "python",
   "pygments_lexer": "ipython3",
   "version": "3.8.10"
  }
 },
 "nbformat": 4,
 "nbformat_minor": 5
}
